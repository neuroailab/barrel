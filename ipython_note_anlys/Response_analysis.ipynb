{
 "cells": [
  {
   "cell_type": "markdown",
   "metadata": {
    "deletable": true,
    "editable": true
   },
   "source": [
    "# Whisker deep nets responses analysis"
   ]
  },
  {
   "cell_type": "markdown",
   "metadata": {
    "deletable": true,
    "editable": true
   },
   "source": [
    "Script to analyze responses of whisker nets"
   ]
  },
  {
   "cell_type": "markdown",
   "metadata": {
    "deletable": true,
    "editable": true
   },
   "source": [
    "## Important imports"
   ]
  },
  {
   "cell_type": "code",
   "execution_count": 1,
   "metadata": {
    "collapsed": true,
    "deletable": true,
    "editable": true
   },
   "outputs": [],
   "source": [
    "import numpy as np\n",
    "%matplotlib inline\n",
    "import matplotlib.pyplot as plt\n",
    "import pylab\n",
    "\n",
    "from scipy import misc\n",
    "import os\n",
    "import time\n",
    "import gridfs\n",
    "import cPickle"
   ]
  },
  {
   "cell_type": "code",
   "execution_count": 102,
   "metadata": {
    "collapsed": true,
    "deletable": true,
    "editable": true
   },
   "outputs": [],
   "source": [
    "from sklearn import manifold"
   ]
  },
  {
   "cell_type": "code",
   "execution_count": 113,
   "metadata": {
    "collapsed": true,
    "deletable": true,
    "editable": true
   },
   "outputs": [],
   "source": [
    "from nltk.corpus import wordnet as wn"
   ]
  },
  {
   "cell_type": "code",
   "execution_count": 2,
   "metadata": {
    "collapsed": true,
    "deletable": true,
    "editable": true
   },
   "outputs": [],
   "source": [
    "import pymongo as pm\n",
    "conn = pm.MongoClient(port=27017)"
   ]
  },
  {
   "cell_type": "code",
   "execution_count": 4,
   "metadata": {
    "collapsed": false,
    "deletable": true,
    "editable": true
   },
   "outputs": [
    {
     "data": {
      "text/plain": [
       "[u'catenet_adag_flv_slac_fea_2']"
      ]
     },
     "execution_count": 4,
     "metadata": {},
     "output_type": "execute_result"
    }
   ],
   "source": [
    "conn['whisker_net']['catenet.files'].distinct('exp_id')"
   ]
  },
  {
   "cell_type": "code",
   "execution_count": 143,
   "metadata": {
    "collapsed": true,
    "deletable": true,
    "editable": true
   },
   "outputs": [],
   "source": [
    "def get_sort_top3(top1_conmat):\n",
    "    name_list_top3 = []\n",
    "    for indx_tmp in xrange(117):\n",
    "        curr_row = list(top1_conmat[indx_tmp])\n",
    "        curr_row[indx_tmp] = 0\n",
    "        new_row = sorted(enumerate(curr_row), key=lambda x: x[1])\n",
    "        name_orig = cate_dict[indx_tmp]\n",
    "        name_top3 = []\n",
    "        for indx_tmp2 in xrange(3):\n",
    "            name_top3.append((cate_dict[new_row[-1 - indx_tmp2][0]], \n",
    "                              int(new_row[-1 - indx_tmp2][1]*1.0/np.sum(data_label==indx_tmp)*10000)*1.0/10000))\n",
    "        name_list_top3.append((int(top1_conmat[indx_tmp, indx_tmp]*1.0/np.sum(data_label==indx_tmp)*10000)*1.0/10000, name_orig, name_top3))\n",
    "\n",
    "    name_list_top3.sort()\n",
    "    #print(name_list_top3)\n",
    "    for item in name_list_top3:\n",
    "        print(item)\n",
    "    \n",
    "    return name_list_top3"
   ]
  },
  {
   "cell_type": "code",
   "execution_count": null,
   "metadata": {
    "collapsed": true,
    "deletable": true,
    "editable": true
   },
   "outputs": [],
   "source": []
  },
  {
   "cell_type": "code",
   "execution_count": null,
   "metadata": {
    "collapsed": true,
    "deletable": true,
    "editable": true
   },
   "outputs": [],
   "source": []
  },
  {
   "cell_type": "code",
   "execution_count": null,
   "metadata": {
    "collapsed": true,
    "deletable": true,
    "editable": true
   },
   "outputs": [],
   "source": []
  },
  {
   "cell_type": "markdown",
   "metadata": {
    "deletable": true,
    "editable": true
   },
   "source": [
    "## Spatial-temporal convolution networks"
   ]
  },
  {
   "cell_type": "markdown",
   "metadata": {
    "deletable": true,
    "editable": true
   },
   "source": [
    "Use the responses from network `catenet_adag_flv_slac_3`, step `305000`"
   ]
  },
  {
   "cell_type": "code",
   "execution_count": 20,
   "metadata": {
    "collapsed": true,
    "deletable": true,
    "editable": true
   },
   "outputs": [],
   "source": [
    "curr_expid = 'catenet_adag_flv_slac_fea_2'\n",
    "\n",
    "dbname = 'whisker_net'\n",
    "colname = 'catenet.files'\n",
    "find_res = conn[dbname][colname].find({'exp_id': curr_expid, 'validation_results': {'$exists': True}})"
   ]
  },
  {
   "cell_type": "code",
   "execution_count": 83,
   "metadata": {
    "collapsed": true,
    "deletable": true,
    "editable": true
   },
   "outputs": [],
   "source": [
    "find_res_inter = conn[dbname][colname].find({'exp_id': curr_expid, \n",
    "                                             'validation_results.topn.intermediate_steps': {'$exists': True}})\n",
    "#find_res_inter = conn[dbname][colname].find({'exp_id': curr_expid, \n",
    "#                                             'validation_results.topn': {'$exists': True}})"
   ]
  },
  {
   "cell_type": "code",
   "execution_count": 84,
   "metadata": {
    "collapsed": false,
    "deletable": true,
    "editable": true
   },
   "outputs": [
    {
     "data": {
      "text/plain": [
       "0"
      ]
     },
     "execution_count": 84,
     "metadata": {},
     "output_type": "execute_result"
    }
   ],
   "source": [
    "find_res_inter.count()"
   ]
  },
  {
   "cell_type": "code",
   "execution_count": 70,
   "metadata": {
    "collapsed": false,
    "deletable": true,
    "editable": true
   },
   "outputs": [
    {
     "data": {
      "text/plain": [
       "43"
      ]
     },
     "execution_count": 70,
     "metadata": {},
     "output_type": "execute_result"
    }
   ],
   "source": [
    "find_res.count()"
   ]
  },
  {
   "cell_type": "code",
   "execution_count": 71,
   "metadata": {
    "collapsed": true,
    "deletable": true,
    "editable": true
   },
   "outputs": [],
   "source": [
    "idval = find_res[42]['_id']"
   ]
  },
  {
   "cell_type": "code",
   "execution_count": 72,
   "metadata": {
    "collapsed": false,
    "deletable": true,
    "editable": true
   },
   "outputs": [],
   "source": [
    "coll = conn[dbname][colname]\n",
    "fn = coll.find({'item_for': idval})[0]['filename']"
   ]
  },
  {
   "cell_type": "code",
   "execution_count": 73,
   "metadata": {
    "collapsed": true,
    "deletable": true,
    "editable": true
   },
   "outputs": [],
   "source": [
    "fs = gridfs.GridFS(coll.database, 'catenet')\n",
    "fh = fs.get_last_version(fn)\n",
    "saved_data = cPickle.loads(fh.read())\n",
    "fh.close()"
   ]
  },
  {
   "cell_type": "code",
   "execution_count": 76,
   "metadata": {
    "collapsed": false,
    "deletable": true,
    "editable": true
   },
   "outputs": [
    {
     "data": {
      "text/plain": [
       "10"
      ]
     },
     "execution_count": 76,
     "metadata": {},
     "output_type": "execute_result"
    }
   ],
   "source": [
    "len(saved_data['validation_results']['topn']['label'])"
   ]
  },
  {
   "cell_type": "code",
   "execution_count": 74,
   "metadata": {
    "collapsed": false,
    "deletable": true,
    "editable": true
   },
   "outputs": [
    {
     "data": {
      "text/plain": [
       "(128,)"
      ]
     },
     "execution_count": 74,
     "metadata": {},
     "output_type": "execute_result"
    }
   ],
   "source": [
    "saved_data['validation_results']['topn']['label'][0].shape"
   ]
  },
  {
   "cell_type": "code",
   "execution_count": 75,
   "metadata": {
    "collapsed": false,
    "deletable": true,
    "editable": true
   },
   "outputs": [
    {
     "data": {
      "text/plain": [
       "array([  9,   9,   9,   9,   9,   9,   9,   9,  29,  29,  29,  29,  29,\n",
       "        29,  29,  29,  18,  18,  18,  18,  18,  18,  18,  18,  56,  56,\n",
       "        56,  56,  56,  56,  56,  56,  23,  23,  23,  23,  23,  23,  23,\n",
       "        23,  85,  85,  85,  85,  85,  85,  85,  85,  52,  52,  52,  52,\n",
       "        52,  52,  52,  52, 109, 109, 109, 109, 109, 109, 109, 109,  71,\n",
       "        71,  71,  71,  71,  71,  71,  71,  70,  70,  70,  70,  70,  70,\n",
       "        70,  70,  17,  17,  17,  17,  17,  17,  17,  17,   4,   4,   4,\n",
       "         4,   4,   4,   4,   4,  55,  55,  55,  55,  55,  55,  55,  55,\n",
       "       115, 115, 115, 115, 115, 115, 115, 115,  27,  27,  27,  27,  27,\n",
       "        27,  27,  27,  74,  74,  74,  74,  74,  74,  74,  74])"
      ]
     },
     "execution_count": 75,
     "metadata": {},
     "output_type": "execute_result"
    }
   ],
   "source": [
    "saved_data['validation_results']['topn']['label'][0]"
   ]
  },
  {
   "cell_type": "code",
   "execution_count": null,
   "metadata": {
    "collapsed": true,
    "deletable": true,
    "editable": true
   },
   "outputs": [],
   "source": []
  },
  {
   "cell_type": "code",
   "execution_count": null,
   "metadata": {
    "collapsed": true,
    "deletable": true,
    "editable": true
   },
   "outputs": [],
   "source": []
  },
  {
   "cell_type": "code",
   "execution_count": 59,
   "metadata": {
    "collapsed": false,
    "deletable": true,
    "editable": true
   },
   "outputs": [],
   "source": [
    "idval = find_res[38]['_id']\n",
    "coll = conn[dbname][colname]\n",
    "fn = coll.find({'item_for': idval})[0]['filename']\n",
    "fs = gridfs.GridFS(coll.database, 'catenet')\n",
    "fh = fs.get_last_version(fn)\n",
    "saved_data = cPickle.loads(fh.read())\n",
    "fh.close()"
   ]
  },
  {
   "cell_type": "code",
   "execution_count": 60,
   "metadata": {
    "collapsed": false,
    "deletable": true,
    "editable": true
   },
   "outputs": [
    {
     "data": {
      "text/plain": [
       "array([  9,   9,   9,   9,   9,   9,   9,   9,  29,  29,  29,  29,  29,\n",
       "        29,  29,  29,  18,  18,  18,  18,  18,  18,  18,  18,  56,  56,\n",
       "        56,  56,  56,  56,  56,  56,  23,  23,  23,  23,  23,  23,  23,\n",
       "        23,  85,  85,  85,  85,  85,  85,  85,  85,  52,  52,  52,  52,\n",
       "        52,  52,  52,  52, 109, 109, 109, 109, 109, 109, 109, 109,  71,\n",
       "        71,  71,  71,  71,  71,  71,  71,  70,  70,  70,  70,  70,  70,\n",
       "        70,  70,  17,  17,  17,  17,  17,  17,  17,  17,   4,   4,   4,\n",
       "         4,   4,   4,   4,   4,  55,  55,  55,  55,  55,  55,  55,  55,\n",
       "       115, 115, 115, 115, 115, 115, 115, 115,  27,  27,  27,  27,  27,\n",
       "        27,  27,  27,  74,  74,  74,  74,  74,  74,  74,  74])"
      ]
     },
     "execution_count": 60,
     "metadata": {},
     "output_type": "execute_result"
    }
   ],
   "source": [
    "saved_data['validation_results']['topn']['label'][0]"
   ]
  },
  {
   "cell_type": "code",
   "execution_count": 61,
   "metadata": {
    "collapsed": false,
    "deletable": true,
    "editable": true
   },
   "outputs": [],
   "source": [
    "all_arr = np.asarray(saved_data['validation_results']['topn']['label'])"
   ]
  },
  {
   "cell_type": "code",
   "execution_count": 62,
   "metadata": {
    "collapsed": false,
    "deletable": true,
    "editable": true
   },
   "outputs": [
    {
     "data": {
      "text/plain": [
       "176"
      ]
     },
     "execution_count": 62,
     "metadata": {},
     "output_type": "execute_result"
    }
   ],
   "source": [
    "np.sum(all_arr==0)"
   ]
  },
  {
   "cell_type": "code",
   "execution_count": 63,
   "metadata": {
    "collapsed": false,
    "deletable": true,
    "editable": true
   },
   "outputs": [
    {
     "data": {
      "text/plain": [
       "184"
      ]
     },
     "execution_count": 63,
     "metadata": {},
     "output_type": "execute_result"
    }
   ],
   "source": [
    "np.sum(all_arr==100)"
   ]
  },
  {
   "cell_type": "code",
   "execution_count": 64,
   "metadata": {
    "collapsed": false,
    "deletable": true,
    "editable": true
   },
   "outputs": [],
   "source": [
    "all_arr_0 = all_arr"
   ]
  },
  {
   "cell_type": "code",
   "execution_count": 65,
   "metadata": {
    "collapsed": false,
    "deletable": true,
    "editable": true
   },
   "outputs": [
    {
     "data": {
      "text/plain": [
       "176"
      ]
     },
     "execution_count": 65,
     "metadata": {},
     "output_type": "execute_result"
    }
   ],
   "source": [
    "np.sum(all_arr==0)"
   ]
  },
  {
   "cell_type": "code",
   "execution_count": null,
   "metadata": {
    "collapsed": true,
    "deletable": true,
    "editable": true
   },
   "outputs": [],
   "source": []
  },
  {
   "cell_type": "code",
   "execution_count": null,
   "metadata": {
    "collapsed": true,
    "deletable": true,
    "editable": true
   },
   "outputs": [],
   "source": []
  },
  {
   "cell_type": "code",
   "execution_count": null,
   "metadata": {
    "collapsed": true,
    "deletable": true,
    "editable": true
   },
   "outputs": [],
   "source": []
  },
  {
   "cell_type": "code",
   "execution_count": null,
   "metadata": {
    "collapsed": true,
    "deletable": true,
    "editable": true
   },
   "outputs": [],
   "source": []
  },
  {
   "cell_type": "code",
   "execution_count": 85,
   "metadata": {
    "collapsed": true,
    "deletable": true,
    "editable": true
   },
   "outputs": [],
   "source": [
    "perf_list = [(0.0, 9), (0.0, 61), (0.0013736263736263737, 81), (0.001736111111111111, 15), (0.0027472527472527475, 64), (0.0027472527472527475, 91), (0.002976190476190476, 30), (0.004120879120879121, 46), (0.004120879120879121, 63), (0.004120879120879121, 104), (0.0050675675675675678, 23), (0.005208333333333333, 21), (0.0054945054945054949, 36), (0.0054945054945054949, 73), (0.0054945054945054949, 114), (0.0060483870967741934, 2), (0.0064935064935064939, 26), (0.006868131868131868, 78), (0.006868131868131868, 108), (0.006868131868131868, 109), (0.006868131868131868, 116), (0.008241758241758242, 54), (0.0086805555555555559, 22), (0.0096153846153846159, 38), (0.0096153846153846159, 112), (0.011904761904761904, 4), (0.012362637362637362, 44), (0.013719512195121951, 27), (0.015151515151515152, 10), (0.016483516483516484, 83), (0.017123287671232876, 20), (0.017857142857142856, 107), (0.018333333333333333, 24), (0.019230769230769232, 47), (0.020604395604395604, 115), (0.023351648351648352, 75), (0.02389705882352941, 13), (0.024725274725274724, 62), (0.0260989010989011, 40), (0.03021978021978022, 110), (0.03313253012048193, 29), (0.034340659340659344, 93), (0.034340659340659344, 100), (0.034836065573770489, 1), (0.035714285714285712, 35), (0.035714285714285712, 66), (0.035714285714285712, 106), (0.03787878787878788, 8), (0.042582417582417584, 101), (0.043956043956043959, 65), (0.043956043956043959, 80), (0.04807692307692308, 90), (0.050824175824175824, 58), (0.054435483870967742, 3), (0.054945054945054944, 105), (0.058908045977011492, 32), (0.059065934065934064, 92), (0.060714285714285714, 19), (0.061688311688311688, 25), (0.061813186813186816, 39), (0.065934065934065936, 94), (0.067307692307692304, 34), (0.067307692307692304, 71), (0.067307692307692304, 102), (0.071428571428571425, 41), (0.081043956043956047, 96), (0.083333333333333329, 11), (0.085164835164835168, 57), (0.087912087912087919, 88), (0.097527472527472528, 103), (0.097560975609756101, 0), (0.098901098901098897, 82), (0.10302197802197802, 55), (0.10302197802197802, 85), (0.11263736263736264, 52), (0.12225274725274725, 48), (0.125, 50), (0.13920454545454544, 33), (0.13992537313432835, 12), (0.14423076923076922, 86), (0.14972527472527472, 79), (0.15934065934065933, 95), (0.16071428571428573, 69), (0.16346153846153846, 89), (0.18131868131868131, 70), (0.18664383561643835, 16), (0.18681318681318682, 59), (0.18835616438356165, 18), (0.19093406593406592, 99), (0.2087912087912088, 84), (0.21703296703296704, 98), (0.25412087912087911, 45), (0.26648351648351648, 56), (0.275390625, 5), (0.27884615384615385, 53), (0.28708791208791207, 76), (0.29120879120879123, 42), (0.29120879120879123, 111), (0.29945054945054944, 74), (0.29945054945054944, 97), (0.29999999999999999, 7), (0.30769230769230771, 49), (0.31777108433734941, 28), (0.32417582417582419, 43), (0.33379120879120877, 67), (0.34065934065934067, 72), (0.35027472527472525, 37), (0.37362637362637363, 77), (0.39560439560439559, 68), (0.41620879120879123, 51), (0.42045454545454547, 31), (0.44230769230769229, 87), (0.46607142857142858, 14), (0.52226027397260277, 17), (0.56868131868131866, 113), (0.65384615384615385, 6), (0.7101648351648352, 60)]"
   ]
  },
  {
   "cell_type": "code",
   "execution_count": 86,
   "metadata": {
    "collapsed": false,
    "deletable": true,
    "editable": true
   },
   "outputs": [
    {
     "data": {
      "text/plain": [
       "117"
      ]
     },
     "execution_count": 86,
     "metadata": {},
     "output_type": "execute_result"
    }
   ],
   "source": [
    "len(perf_list)"
   ]
  },
  {
   "cell_type": "code",
   "execution_count": 87,
   "metadata": {
    "collapsed": true,
    "deletable": true,
    "editable": true
   },
   "outputs": [],
   "source": [
    "perf_arr = np.asarray(perf_list)"
   ]
  },
  {
   "cell_type": "code",
   "execution_count": 91,
   "metadata": {
    "collapsed": false,
    "deletable": true,
    "editable": true
   },
   "outputs": [
    {
     "data": {
      "text/plain": [
       "<matplotlib.text.Text at 0x7f32003df310>"
      ]
     },
     "execution_count": 91,
     "metadata": {},
     "output_type": "execute_result"
    },
    {
     "data": {
      "image/png": "[encoded data removed]",
      "text/plain": [
       "<matplotlib.figure.Figure at 0x7f3200223f90>"
      ]
     },
     "metadata": {},
     "output_type": "display_data"
    }
   ],
   "source": [
    "fig = plt.figure(figsize=(10, 5))\n",
    "plt.bar(range(117), perf_arr[:, 0])\n",
    "plt.ylabel('Performance', fontsize = 18)"
   ]
  },
  {
   "cell_type": "code",
   "execution_count": 92,
   "metadata": {
    "collapsed": true,
    "deletable": true,
    "editable": true
   },
   "outputs": [],
   "source": [
    "data = cPickle.load(open('response_fcadd.pkl', 'r'))"
   ]
  },
  {
   "cell_type": "code",
   "execution_count": 93,
   "metadata": {
    "collapsed": false,
    "deletable": true,
    "editable": true
   },
   "outputs": [
    {
     "data": {
      "text/plain": [
       "(79848, 117)"
      ]
     },
     "execution_count": 93,
     "metadata": {},
     "output_type": "execute_result"
    }
   ],
   "source": [
    "data.shape"
   ]
  },
  {
   "cell_type": "code",
   "execution_count": 94,
   "metadata": {
    "collapsed": true,
    "deletable": true,
    "editable": true
   },
   "outputs": [],
   "source": [
    "data_label = cPickle.load(open('response_label.pkl', 'r'))"
   ]
  },
  {
   "cell_type": "code",
   "execution_count": 95,
   "metadata": {
    "collapsed": false,
    "deletable": true,
    "editable": true
   },
   "outputs": [
    {
     "data": {
      "text/plain": [
       "(79848,)"
      ]
     },
     "execution_count": 95,
     "metadata": {},
     "output_type": "execute_result"
    }
   ],
   "source": [
    "data_label.shape"
   ]
  },
  {
   "cell_type": "code",
   "execution_count": null,
   "metadata": {
    "collapsed": true,
    "deletable": true,
    "editable": true
   },
   "outputs": [],
   "source": []
  },
  {
   "cell_type": "markdown",
   "metadata": {
    "deletable": true,
    "editable": true
   },
   "source": [
    "# Top1 confusion matrix related"
   ]
  },
  {
   "cell_type": "code",
   "execution_count": 127,
   "metadata": {
    "collapsed": false,
    "deletable": true,
    "editable": true
   },
   "outputs": [],
   "source": [
    "top1_conmat = np.zeros([117, 117])"
   ]
  },
  {
   "cell_type": "code",
   "execution_count": 128,
   "metadata": {
    "collapsed": true,
    "deletable": true,
    "editable": true
   },
   "outputs": [],
   "source": [
    "argmax_fcadd = np.argmax(data, 1)"
   ]
  },
  {
   "cell_type": "code",
   "execution_count": 130,
   "metadata": {
    "collapsed": false,
    "deletable": true,
    "editable": true
   },
   "outputs": [],
   "source": [
    "for indx_tmp in xrange(len(data_label)):\n",
    "    top1_conmat[int(data_label[indx_tmp]), int(argmax_fcadd[indx_tmp])] = top1_conmat[int(data_label[indx_tmp]), int(argmax_fcadd[indx_tmp])] + 1"
   ]
  },
  {
   "cell_type": "code",
   "execution_count": 131,
   "metadata": {
    "collapsed": false,
    "deletable": true,
    "editable": true
   },
   "outputs": [
    {
     "data": {
      "text/plain": [
       "array([[ 32.,   0.,   0., ...,   0.,   0.,   1.],\n",
       "       [  0.,  17.,   0., ...,   1.,   0.,   6.],\n",
       "       [  1.,   1.,   3., ...,   0.,   3.,   0.],\n",
       "       ..., \n",
       "       [  4.,   3.,   0., ...,   4.,   1.,   3.],\n",
       "       [  3.,   0.,   1., ...,   0.,  15.,   0.],\n",
       "       [  8.,   4.,   0., ...,   1.,   1.,   5.]])"
      ]
     },
     "execution_count": 131,
     "metadata": {},
     "output_type": "execute_result"
    }
   ],
   "source": [
    "top1_conmat"
   ]
  },
  {
   "cell_type": "code",
   "execution_count": 132,
   "metadata": {
    "collapsed": true,
    "deletable": true,
    "editable": true
   },
   "outputs": [
    {
     "data": {
      "text/plain": [
       "[(0.0, 9),\n",
       " (0.0, 61),\n",
       " (0.0013736263736263737, 81),\n",
       " (0.001736111111111111, 15),\n",
       " (0.0027472527472527475, 64),\n",
       " (0.0027472527472527475, 91),\n",
       " (0.002976190476190476, 30),\n",
       " (0.004120879120879121, 46),\n",
       " (0.004120879120879121, 63),\n",
       " (0.004120879120879121, 104),\n",
       " (0.005067567567567568, 23),\n",
       " (0.005208333333333333, 21),\n",
       " (0.005494505494505495, 36),\n",
       " (0.005494505494505495, 73),\n",
       " (0.005494505494505495, 114),\n",
       " (0.006048387096774193, 2),\n",
       " (0.006493506493506494, 26),\n",
       " (0.006868131868131868, 78),\n",
       " (0.006868131868131868, 108),\n",
       " (0.006868131868131868, 109),\n",
       " (0.006868131868131868, 116),\n",
       " (0.008241758241758242, 54),\n",
       " (0.008680555555555556, 22),\n",
       " (0.009615384615384616, 38),\n",
       " (0.009615384615384616, 112),\n",
       " (0.011904761904761904, 4),\n",
       " (0.012362637362637362, 44),\n",
       " (0.013719512195121951, 27),\n",
       " (0.015151515151515152, 10),\n",
       " (0.016483516483516484, 83),\n",
       " (0.017123287671232876, 20),\n",
       " (0.017857142857142856, 107),\n",
       " (0.018333333333333333, 24),\n",
       " (0.019230769230769232, 47),\n",
       " (0.020604395604395604, 115),\n",
       " (0.023351648351648352, 75),\n",
       " (0.02389705882352941, 13),\n",
       " (0.024725274725274724, 62),\n",
       " (0.0260989010989011, 40),\n",
       " (0.03021978021978022, 110),\n",
       " (0.03313253012048193, 29),\n",
       " (0.034340659340659344, 93),\n",
       " (0.034340659340659344, 100),\n",
       " (0.03483606557377049, 1),\n",
       " (0.03571428571428571, 35),\n",
       " (0.03571428571428571, 66),\n",
       " (0.03571428571428571, 106),\n",
       " (0.03787878787878788, 8),\n",
       " (0.042582417582417584, 101),\n",
       " (0.04395604395604396, 65),\n",
       " (0.04395604395604396, 80),\n",
       " (0.04807692307692308, 90),\n",
       " (0.050824175824175824, 58),\n",
       " (0.05443548387096774, 3),\n",
       " (0.054945054945054944, 105),\n",
       " (0.05890804597701149, 32),\n",
       " (0.059065934065934064, 92),\n",
       " (0.060714285714285714, 19),\n",
       " (0.06168831168831169, 25),\n",
       " (0.061813186813186816, 39),\n",
       " (0.06593406593406594, 94),\n",
       " (0.0673076923076923, 34),\n",
       " (0.0673076923076923, 71),\n",
       " (0.0673076923076923, 102),\n",
       " (0.07142857142857142, 41),\n",
       " (0.08104395604395605, 96),\n",
       " (0.08333333333333333, 11),\n",
       " (0.08516483516483517, 57),\n",
       " (0.08791208791208792, 88),\n",
       " (0.09752747252747253, 103),\n",
       " (0.0975609756097561, 0),\n",
       " (0.0989010989010989, 82),\n",
       " (0.10302197802197802, 55),\n",
       " (0.10302197802197802, 85),\n",
       " (0.11263736263736264, 52),\n",
       " (0.12225274725274725, 48),\n",
       " (0.125, 50),\n",
       " (0.13920454545454544, 33),\n",
       " (0.13992537313432835, 12),\n",
       " (0.14423076923076922, 86),\n",
       " (0.14972527472527472, 79),\n",
       " (0.15934065934065933, 95),\n",
       " (0.16071428571428573, 69),\n",
       " (0.16346153846153846, 89),\n",
       " (0.1813186813186813, 70),\n",
       " (0.18664383561643835, 16),\n",
       " (0.18681318681318682, 59),\n",
       " (0.18835616438356165, 18),\n",
       " (0.19093406593406592, 99),\n",
       " (0.2087912087912088, 84),\n",
       " (0.21703296703296704, 98),\n",
       " (0.2541208791208791, 45),\n",
       " (0.2664835164835165, 56),\n",
       " (0.275390625, 5),\n",
       " (0.27884615384615385, 53),\n",
       " (0.28708791208791207, 76),\n",
       " (0.29120879120879123, 42),\n",
       " (0.29120879120879123, 111),\n",
       " (0.29945054945054944, 74),\n",
       " (0.29945054945054944, 97),\n",
       " (0.3, 7),\n",
       " (0.3076923076923077, 49),\n",
       " (0.3177710843373494, 28),\n",
       " (0.3241758241758242, 43),\n",
       " (0.33379120879120877, 67),\n",
       " (0.34065934065934067, 72),\n",
       " (0.35027472527472525, 37),\n",
       " (0.37362637362637363, 77),\n",
       " (0.3956043956043956, 68),\n",
       " (0.41620879120879123, 51),\n",
       " (0.42045454545454547, 31),\n",
       " (0.4423076923076923, 87),\n",
       " (0.4660714285714286, 14),\n",
       " (0.5222602739726028, 17),\n",
       " (0.5686813186813187, 113),\n",
       " (0.6538461538461539, 6),\n",
       " (0.7101648351648352, 60)]"
      ]
     },
     "execution_count": 132,
     "metadata": {},
     "output_type": "execute_result"
    }
   ],
   "source": [
    "perf_list"
   ]
  },
  {
   "cell_type": "code",
   "execution_count": 133,
   "metadata": {
    "collapsed": true,
    "deletable": true,
    "editable": true
   },
   "outputs": [
    {
     "name": "stdout",
     "output_type": "stream",
     "text": [
      "[(0.0, 9), (0.0, 61), (0.0013736263736263737, 81), (0.001736111111111111, 15), (0.0027472527472527475, 64), (0.0027472527472527475, 91), (0.002976190476190476, 30), (0.004120879120879121, 46), (0.004120879120879121, 63), (0.004120879120879121, 104), (0.0050675675675675678, 23), (0.005208333333333333, 21), (0.0054945054945054949, 36), (0.0054945054945054949, 73), (0.0054945054945054949, 114), (0.0060483870967741934, 2), (0.0064935064935064939, 26), (0.006868131868131868, 78), (0.006868131868131868, 108), (0.006868131868131868, 109), (0.006868131868131868, 116), (0.008241758241758242, 54), (0.0086805555555555559, 22), (0.0096153846153846159, 38), (0.0096153846153846159, 112), (0.011904761904761904, 4), (0.012362637362637362, 44), (0.013719512195121951, 27), (0.015151515151515152, 10), (0.016483516483516484, 83), (0.017123287671232876, 20), (0.017857142857142856, 107), (0.018333333333333333, 24), (0.019230769230769232, 47), (0.020604395604395604, 115), (0.023351648351648352, 75), (0.02389705882352941, 13), (0.024725274725274724, 62), (0.0260989010989011, 40), (0.03021978021978022, 110), (0.03313253012048193, 29), (0.034340659340659344, 93), (0.034340659340659344, 100), (0.034836065573770489, 1), (0.035714285714285712, 35), (0.035714285714285712, 66), (0.035714285714285712, 106), (0.03787878787878788, 8), (0.042582417582417584, 101), (0.043956043956043959, 65), (0.043956043956043959, 80), (0.04807692307692308, 90), (0.050824175824175824, 58), (0.054435483870967742, 3), (0.054945054945054944, 105), (0.058908045977011492, 32), (0.059065934065934064, 92), (0.060714285714285714, 19), (0.061688311688311688, 25), (0.061813186813186816, 39), (0.065934065934065936, 94), (0.067307692307692304, 34), (0.067307692307692304, 71), (0.067307692307692304, 102), (0.071428571428571425, 41), (0.081043956043956047, 96), (0.083333333333333329, 11), (0.085164835164835168, 57), (0.087912087912087919, 88), (0.097527472527472528, 103), (0.097560975609756101, 0), (0.098901098901098897, 82), (0.10302197802197802, 55), (0.10302197802197802, 85), (0.11263736263736264, 52), (0.12225274725274725, 48), (0.125, 50), (0.13920454545454544, 33), (0.13992537313432835, 12), (0.14423076923076922, 86), (0.14972527472527472, 79), (0.15934065934065933, 95), (0.16071428571428573, 69), (0.16346153846153846, 89), (0.18131868131868131, 70), (0.18664383561643835, 16), (0.18681318681318682, 59), (0.18835616438356165, 18), (0.19093406593406592, 99), (0.2087912087912088, 84), (0.21703296703296704, 98), (0.25412087912087911, 45), (0.26648351648351648, 56), (0.275390625, 5), (0.27884615384615385, 53), (0.28708791208791207, 76), (0.29120879120879123, 42), (0.29120879120879123, 111), (0.29945054945054944, 74), (0.29945054945054944, 97), (0.29999999999999999, 7), (0.30769230769230771, 49), (0.31777108433734941, 28), (0.32417582417582419, 43), (0.33379120879120877, 67), (0.34065934065934067, 72), (0.35027472527472525, 37), (0.37362637362637363, 77), (0.39560439560439559, 68), (0.41620879120879123, 51), (0.42045454545454547, 31), (0.44230769230769229, 87), (0.46607142857142858, 14), (0.52226027397260277, 17), (0.56868131868131866, 113), (0.65384615384615385, 6), (0.7101648351648352, 60)]\n"
     ]
    }
   ],
   "source": [
    "per_list_2 = []\n",
    "for indx_tmp in xrange(117):\n",
    "    per_list_2.append((top1_conmat[indx_tmp, indx_tmp]*1.0/np.sum(data_label==indx_tmp), indx_tmp))\n",
    "    \n",
    "per_list_2.sort()\n",
    "print(per_list_2)"
   ]
  },
  {
   "cell_type": "code",
   "execution_count": 139,
   "metadata": {
    "collapsed": false,
    "deletable": true,
    "editable": true
   },
   "outputs": [
    {
     "name": "stdout",
     "output_type": "stream",
     "text": [
      "(0.0, u'cruiser', [(u'convertible', 0.3543), (u'tender', 0.0837), (u'earphone', 0.0604)])\n",
      "(0.0, u'drafting_table', [(u'console_table', 0.2859), (u'kitchen_table', 0.0984), (u'straight_chair', 0.089)])\n",
      "(0.0013, u'sport_utility', [(u'convertible', 0.2953), (u'car', 0.0892), (u'earphone', 0.0837)])\n",
      "(0.0017, u'ferry', [(u'tender', 0.2986), (u'cruise_ship', 0.1649), (u'knife', 0.0555)])\n",
      "(0.0027, u'sedan', [(u'convertible', 0.2843), (u'boat', 0.0961), (u'tender', 0.0686)])\n",
      "(0.0027, u'stove', [(u'vertical_file', 0.1195), (u'console_table', 0.0906), (u'microwave', 0.0618)])\n",
      "(0.0029, u'pendulum_clock', [(u'console_table', 0.1101), (u'tender', 0.0535), (u'clock', 0.052)])\n",
      "(0.0041, u'beach_wagon', [(u'convertible', 0.2472), (u'tender', 0.0796), (u'boat', 0.0755)])\n",
      "(0.0041, u'file', [(u'vertical_file', 0.2733), (u'console_table', 0.1785), (u'tweeter', 0.0576)])\n",
      "(0.0041, u'loudspeaker', [(u'vertical_file', 0.1785), (u'console_table', 0.1098), (u'tweeter', 0.0604)])\n",
      "(0.005, u'cabin_cruiser', [(u'tender', 0.2652), (u'cruise_ship', 0.1047), (u'knife', 0.0861)])\n",
      "(0.0052, u'secretary', [(u'console_table', 0.3437), (u'straight_chair', 0.0763), (u'kitchen_table', 0.0746)])\n",
      "(0.0054, u'chair', [(u'straight_chair', 0.1868), (u'console_table', 0.1387), (u'folding_chair', 0.0947)])\n",
      "(0.0054, u'jeep', [(u'convertible', 0.1909), (u'earphone', 0.0714), (u'motorcycle', 0.0686)])\n",
      "(0.0054, u'planter', [(u'console_table', 0.1373), (u'bowl', 0.1057), (u'mug', 0.0728)])\n",
      "(0.006, u'camera', [(u'convertible', 0.0625), (u'mug', 0.0544), (u'tweeter', 0.0403)])\n",
      "(0.0064, u'stock_car', [(u'convertible', 0.2922), (u'boat', 0.086), (u'tender', 0.0811)])\n",
      "(0.0068, u'desk', [(u'console_table', 0.298), (u'kitchen_table', 0.059), (u'straight_chair', 0.0412)])\n",
      "(0.0068, u'racer', [(u'convertible', 0.2747), (u'tender', 0.0989), (u'boat', 0.0549)])\n",
      "(0.0068, u'rifle', [(u'dagger', 0.1277), (u'guitar', 0.114), (u'tender', 0.1126)])\n",
      "(0.0068, u'table', [(u'console_table', 0.2376), (u'kitchen_table', 0.1167), (u'straight_chair', 0.0892)])\n",
      "(0.0082, u'printer', [(u'console_table', 0.0906), (u'birdhouse', 0.0851), (u'vertical_file', 0.0728)])\n",
      "(0.0086, u'ambulance', [(u'convertible', 0.2395), (u'birdhouse', 0.0642), (u'roadster', 0.0625)])\n",
      "(0.0096, u'lamp', [(u'floor_lamp', 0.1675), (u'earphone', 0.1002), (u'table_lamp', 0.0618)])\n",
      "(0.0096, u'piano', [(u'console_table', 0.1524), (u'telephone', 0.048), (u'data_input_device', 0.0453)])\n",
      "(0.0119, u'upright', [(u'console_table', 0.2519), (u'bookshelf', 0.0535), (u'berth', 0.0535)])\n",
      "(0.0123, u'love_seat', [(u'console_table', 0.2032), (u'convertible', 0.0535), (u'birdhouse', 0.0425)])\n",
      "(0.0137, u'bag', [(u'console_table', 0.0564), (u'telephone', 0.0457), (u'vertical_file', 0.0457)])\n",
      "(0.0151, u'limousine', [(u'cruise_ship', 0.2196), (u'tender', 0.142), (u'convertible', 0.1041)])\n",
      "(0.0164, u'easy_chair', [(u'straight_chair', 0.0975), (u'console_table', 0.0659), (u'folding_chair', 0.0549)])\n",
      "(0.0171, u'platform_bed', [(u'console_table', 0.1832), (u'laptop', 0.0496), (u'liquid_crystal_display', 0.0342)])\n",
      "(0.0178, u'armchair', [(u'straight_chair', 0.1469), (u'console_table', 0.1222), (u'folding_chair', 0.1208)])\n",
      "(0.0183, u'coffee_mug', [(u'mug', 0.3316), (u'helmet', 0.0833), (u'soda_can', 0.0716)])\n",
      "(0.0192, u'yacht', [(u'tender', 0.3269), (u'cruise_ship', 0.1057), (u'boat', 0.0769)])\n",
      "(0.0206, u'sofa', [(u'console_table', 0.1964), (u'vertical_file', 0.0618), (u'convertible', 0.0467)])\n",
      "(0.0233, u'train', [(u'tender', 0.1717), (u'cruise_ship', 0.1346), (u'convertible', 0.0755)])\n",
      "(0.0238, u'grand_piano', [(u'console_table', 0.068), (u'sailboat', 0.068), (u'tender', 0.0533)])\n",
      "(0.0247, u'sports_car', [(u'convertible', 0.2829), (u'tender', 0.0824), (u'boat', 0.0659)])\n",
      "(0.026, u'monitor', [(u'laptop', 0.0975), (u'console_table', 0.0604), (u'liquid_crystal_display', 0.0549)])\n",
      "(0.0302, u'airplane', [(u'jet', 0.3626), (u'delta_wing', 0.1785), (u'sailboat', 0.0673)])\n",
      "(0.0331, u'sea_boat', [(u'tender', 0.262), (u'cruise_ship', 0.1009), (u'boat', 0.0632)])\n",
      "(0.0343, u'coupe', [(u'convertible', 0.3118), (u'boat', 0.0728), (u'tender', 0.0686)])\n",
      "(0.0343, u'park_bench', [(u'console_table', 0.151), (u'bench', 0.1181), (u'straight_chair', 0.0631)])\n",
      "(0.0348, u'table-tennis_table', [(u'console_table', 0.211), (u'kitchen_table', 0.1045), (u'straight_chair', 0.086)])\n",
      "(0.0357, u'coffee_table', [(u'console_table', 0.2609), (u'straight_chair', 0.0494), (u'kitchen_table', 0.0467)])\n",
      "(0.0357, u'mailbox', [(u'console_table', 0.0892), (u'tender', 0.048), (u'faucet', 0.0467)])\n",
      "(0.0357, u'windsor_chair', [(u'straight_chair', 0.2541), (u'folding_chair', 0.1703), (u'console_table', 0.0618)])\n",
      "(0.0378, u'basket', [(u'console_table', 0.1268), (u'bowl', 0.0871), (u'mug', 0.0568)])\n",
      "(0.0425, u'bathtub', [(u'console_table', 0.1346), (u'bowl', 0.0879), (u'vertical_file', 0.0865)])\n",
      "(0.0439, u'screen', [(u'laptop', 0.1153), (u'data_input_device', 0.0975), (u'cellular_telephone', 0.0769)])\n",
      "(0.0439, u'ship', [(u'tender', 0.2953), (u'cruise_ship', 0.0782), (u'knife', 0.0563)])\n",
      "(0.048, u'dresser', [(u'vertical_file', 0.2651), (u'console_table', 0.1978), (u'bookshelf', 0.0714)])\n",
      "(0.0508, u'pistol', [(u'tender', 0.1057), (u'revolver', 0.1057), (u'guitar', 0.0549)])\n",
      "(0.0544, u'school_bus', [(u'bus', 0.1028), (u'tender', 0.0745), (u'console_table', 0.0544)])\n",
      "(0.0549, u'cabinet', [(u'console_table', 0.2142), (u'vertical_file', 0.1318), (u'bookshelf', 0.0879)])\n",
      "(0.0589, u'roadster', [(u'convertible', 0.2945), (u'tender', 0.0775), (u'earphone', 0.0675)])\n",
      "(0.059, u'liquid_crystal_display', [(u'laptop', 0.1222), (u'telephone', 0.0618), (u'straight_chair', 0.048)])\n",
      "(0.0607, u'lawn_chair', [(u'folding_chair', 0.1642), (u'console_table', 0.1589), (u'straight_chair', 0.1303)])\n",
      "(0.0616, u'pool_table', [(u'console_table', 0.2451), (u'bench', 0.0633), (u'straight_chair', 0.06)])\n",
      "(0.0618, u'convertible', [(u'console_table', 0.1978), (u'pool_table', 0.0535), (u'vertical_file', 0.0494)])\n",
      "(0.0659, u'tweeter', [(u'vertical_file', 0.1923), (u'console_table', 0.1112), (u'microwave', 0.0494)])\n",
      "(0.0673, u'car', [(u'convertible', 0.2884), (u'earphone', 0.0673), (u'boat', 0.0659)])\n",
      "(0.0673, u'dishwasher', [(u'vertical_file', 0.2884), (u'microwave', 0.1373), (u'washer', 0.114)])\n",
      "(0.0673, u'worktable', [(u'console_table', 0.2788), (u'kitchen_table', 0.1112), (u'straight_chair', 0.0782)])\n",
      "(0.0714, u'jar', [(u'mug', 0.1675), (u'soda_can', 0.1607), (u'bowl', 0.1552)])\n",
      "(0.081, u'sniper_rifle', [(u'dagger', 0.2046), (u'carbine', 0.1291), (u'guitar', 0.1208)])\n",
      "(0.0833, u'remote_control', [(u'cellular_telephone', 0.142), (u'telephone', 0.1193), (u'bus', 0.0662)])\n",
      "(0.0851, u'washer', [(u'vertical_file', 0.2843), (u'microwave', 0.1153), (u'console_table', 0.1016)])\n",
      "(0.0879, u'table_lamp', [(u'earphone', 0.1497), (u'floor_lamp', 0.103), (u'faucet', 0.0618)])\n",
      "(0.0975, u'bench', [(u'console_table', 0.2486), (u'kitchen_table', 0.0714), (u'straight_chair', 0.0604)])\n",
      "(0.0975, u'cap', [(u'bowl', 0.4298), (u'earphone', 0.131), (u'helmet', 0.0579)])\n",
      "(0.0989, u'swivel_chair', [(u'folding_chair', 0.1387), (u'straight_chair', 0.1071), (u'jet', 0.0947)])\n",
      "(0.103, u'boat', [(u'tender', 0.2747), (u'sailboat', 0.0576), (u'cruise_ship', 0.0563)])\n",
      "(0.103, u'microwave', [(u'vertical_file', 0.3475), (u'console_table', 0.1291), (u'tweeter', 0.081)])\n",
      "(0.1126, u'propeller_plane', [(u'jet', 0.4395), (u'delta_wing', 0.1373), (u'sailboat', 0.0892)])\n",
      "(0.1222, u'revolver', [(u'guitar', 0.1263), (u'tender', 0.1181), (u'dagger', 0.0728)])\n",
      "(0.125, u'berth', [(u'console_table', 0.331), (u'straight_chair', 0.0673), (u'worktable', 0.0659)])\n",
      "(0.1392, u'rocking_chair', [(u'folding_chair', 0.169), (u'straight_chair', 0.1477), (u'console_table', 0.061)])\n",
      "(0.1399, u'microphone', [(u'floor_lamp', 0.0988), (u'wine_bottle', 0.0634), (u'earphone', 0.0634)])\n",
      "(0.1442, u'bookshelf', [(u'console_table', 0.2431), (u'vertical_file', 0.0837), (u'bench', 0.0439)])\n",
      "(0.1497, u'ashcan', [(u'mug', 0.1387), (u'soda_can', 0.0796), (u'vase', 0.0439)])\n",
      "(0.1593, u'faucet', [(u'earphone', 0.1332), (u'jet', 0.0824), (u'tender', 0.0549)])\n",
      "(0.1607, u'pot', [(u'bowl', 0.1057), (u'helmet', 0.0728), (u'mug', 0.0508)])\n",
      "(0.1634, u'vase', [(u'bowl', 0.1085), (u'helmet', 0.0865), (u'earphone', 0.0741)])\n",
      "(0.1813, u'bottle', [(u'wine_bottle', 0.1923), (u'soda_can', 0.0961), (u'tender', 0.0604)])\n",
      "(0.1866, u'birdhouse', [(u'console_table', 0.1181), (u'berth', 0.0565), (u'laptop', 0.0325)])\n",
      "(0.1868, u'carbine', [(u'dagger', 0.1607), (u'guitar', 0.0975), (u'tender', 0.0824)])\n",
      "(0.1883, u'kitchen_table', [(u'console_table', 0.291), (u'straight_chair', 0.0873), (u'laptop', 0.0582)])\n",
      "(0.1909, u'bus', [(u'vertical_file', 0.103), (u'console_table', 0.0645), (u'bookshelf', 0.0563)])\n",
      "(0.2087, u'clock', [(u'bowl', 0.1071), (u'vertical_file', 0.0467), (u'telephone', 0.0453)])\n",
      "(0.217, u'cellular_telephone', [(u'telephone', 0.3282), (u'data_input_device', 0.0659), (u'remote_control', 0.037)])\n",
      "(0.2541, u'cruise_ship', [(u'tender', 0.32), (u'knife', 0.059), (u'ship', 0.0343)])\n",
      "(0.2664, u'wheeled_vehicle', [(u'guitar', 0.0851), (u'knife', 0.0755), (u'tender', 0.0686)])\n",
      "(0.2753, u'data_input_device', [(u'telephone', 0.1347), (u'cellular_telephone', 0.1035), (u'knife', 0.0468)])\n",
      "(0.2788, u'helmet', [(u'bowl', 0.3021), (u'earphone', 0.1085), (u'mug', 0.048)])\n",
      "(0.287, u'knife', [(u'dagger', 0.2032), (u'tender', 0.0989), (u'cruise_ship', 0.0755)])\n",
      "(0.2912, u'sailboat', [(u'tender', 0.1332), (u'delta_wing', 0.07), (u'jet', 0.0576)])\n",
      "(0.2912, u'straight_chair', [(u'folding_chair', 0.1277), (u'console_table', 0.1112), (u'kitchen_table', 0.0398)])\n",
      "(0.2994, u'guitar', [(u'dagger', 0.151), (u'knife', 0.059), (u'tender', 0.048)])\n",
      "(0.2994, u'tender', [(u'cruise_ship', 0.0975), (u'boat', 0.0659), (u'sailboat', 0.0563)])\n",
      "(0.3, u'folding_chair', [(u'straight_chair', 0.173), (u'console_table', 0.0826), (u'lawn_chair', 0.0365)])\n",
      "(0.3076, u'mug', [(u'bowl', 0.1016), (u'helmet', 0.0741), (u'earphone', 0.07)])\n",
      "(0.3177, u'dagger', [(u'knife', 0.1716), (u'guitar', 0.1054), (u'tender', 0.0813)])\n",
      "(0.3241, u'delta_wing', [(u'jet', 0.2266), (u'sailboat', 0.1002), (u'tender', 0.0604)])\n",
      "(0.3337, u'telephone', [(u'cellular_telephone', 0.2142), (u'data_input_device', 0.0467), (u'remote_control', 0.0288)])\n",
      "(0.3406, u'motorcycle', [(u'earphone', 0.114), (u'tender', 0.092), (u'faucet', 0.0576)])\n",
      "(0.3502, u'pillow', [(u'telephone', 0.0576), (u'boat', 0.0535), (u'data_input_device', 0.0508)])\n",
      "(0.3736, u'console_table', [(u'kitchen_table', 0.0769), (u'straight_chair', 0.0521), (u'vertical_file', 0.0494)])\n",
      "(0.3956, u'convertible', [(u'tender', 0.0934), (u'roadster', 0.059), (u'earphone', 0.0439)])\n",
      "(0.4162, u'wine_bottle', [(u'bottle', 0.1208), (u'tender', 0.1057), (u'cruise_ship', 0.0879)])\n",
      "(0.4204, u'vertical_file', [(u'console_table', 0.142), (u'microwave', 0.0639), (u'tweeter', 0.044)])\n",
      "(0.4423, u'laptop', [(u'console_table', 0.0975), (u'kitchen_table', 0.0494), (u'straight_chair', 0.0357)])\n",
      "(0.466, u'soda_can', [(u'mug', 0.0964), (u'jar', 0.0803), (u'bottle', 0.0696)])\n",
      "(0.5222, u'earphone', [(u'bowl', 0.1027), (u'faucet', 0.0445), (u'table_lamp', 0.0256)])\n",
      "(0.5686, u'jet', [(u'delta_wing', 0.1442), (u'propeller_plane', 0.0631), (u'sailboat', 0.0535)])\n",
      "(0.6538, u'floor_lamp', [(u'table_lamp', 0.05), (u'earphone', 0.0461), (u'guitar', 0.0365)])\n",
      "(0.7101, u'bowl', [(u'earphone', 0.0618), (u'helmet', 0.0494), (u'cap', 0.0247)])\n"
     ]
    }
   ],
   "source": [
    "name_list_top3 = []\n",
    "for indx_tmp in xrange(117):\n",
    "    curr_row = list(top1_conmat[indx_tmp])\n",
    "    curr_row[indx_tmp] = 0\n",
    "    new_row = sorted(enumerate(curr_row), key=lambda x: x[1])\n",
    "    name_orig = cate_dict[indx_tmp]\n",
    "    name_top3 = []\n",
    "    for indx_tmp2 in xrange(3):\n",
    "        name_top3.append((cate_dict[new_row[-1 - indx_tmp2][0]], \n",
    "                          int(new_row[-1 - indx_tmp2][1]*1.0/np.sum(data_label==indx_tmp)*10000)*1.0/10000))\n",
    "    name_list_top3.append((int(top1_conmat[indx_tmp, indx_tmp]*1.0/np.sum(data_label==indx_tmp)*10000)*1.0/10000, name_orig, name_top3))\n",
    "    \n",
    "name_list_top3.sort()\n",
    "#print(name_list_top3)\n",
    "for item in name_list_top3:\n",
    "    print(item)"
   ]
  },
  {
   "cell_type": "code",
   "execution_count": null,
   "metadata": {
    "collapsed": true,
    "deletable": true,
    "editable": true
   },
   "outputs": [],
   "source": []
  },
  {
   "cell_type": "code",
   "execution_count": null,
   "metadata": {
    "collapsed": true,
    "deletable": true,
    "editable": true
   },
   "outputs": [],
   "source": []
  },
  {
   "cell_type": "markdown",
   "metadata": {
    "deletable": true,
    "editable": true
   },
   "source": [
    "# Top 5 confusion matrix related"
   ]
  },
  {
   "cell_type": "code",
   "execution_count": 140,
   "metadata": {
    "collapsed": true,
    "deletable": true,
    "editable": true
   },
   "outputs": [],
   "source": []
  },
  {
   "cell_type": "code",
   "execution_count": 142,
   "metadata": {
    "collapsed": false,
    "deletable": true,
    "editable": true
   },
   "outputs": [],
   "source": [
    "top5_conmat = np.zeros([117, 117])\n",
    "for indx_tmp in xrange(len(data_label)):\n",
    "    curr_row = list(data[indx_tmp])\n",
    "    new_row = sorted(enumerate(curr_row), key=lambda x: -x[1])\n",
    "    for indx_tmp2 in xrange(5):\n",
    "        top5_conmat[int(data_label[indx_tmp]), int(new_row[indx_tmp2][0])] = top5_conmat[int(data_label[indx_tmp]), int(new_row[indx_tmp2][0])] + 1"
   ]
  },
  {
   "cell_type": "code",
   "execution_count": 145,
   "metadata": {
    "collapsed": false,
    "deletable": true,
    "editable": true
   },
   "outputs": [
    {
     "name": "stdout",
     "output_type": "stream",
     "text": [
      "(0.0219, u'stove', [(u'console_table', 0.3173), (u'tweeter', 0.2802), (u'vertical_file', 0.2486)])\n",
      "(0.026, u'beach_wagon', [(u'convertible', 0.4546), (u'car', 0.3461), (u'roadster', 0.32)])\n",
      "(0.0267, u'pendulum_clock', [(u'console_table', 0.2678), (u'tender', 0.1592), (u'bookshelf', 0.1398)])\n",
      "(0.0274, u'sport_utility', [(u'convertible', 0.5343), (u'car', 0.4368), (u'roadster', 0.3956)])\n",
      "(0.0343, u'jeep', [(u'convertible', 0.3598), (u'roadster', 0.2829), (u'tender', 0.2046)])\n",
      "(0.0456, u'upright', [(u'console_table', 0.5416), (u'cabinet', 0.25), (u'coffee_table', 0.246)])\n",
      "(0.0467, u'printer', [(u'tweeter', 0.2486), (u'console_table', 0.2458), (u'vertical_file', 0.1936)])\n",
      "(0.0486, u'ambulance', [(u'convertible', 0.4184), (u'roadster', 0.3263), (u'car', 0.2118)])\n",
      "(0.0584, u'camera', [(u'convertible', 0.131), (u'tweeter', 0.1229), (u'mug', 0.1209)])\n",
      "(0.0757, u'limousine', [(u'tender', 0.5587), (u'cruise_ship', 0.4981), (u'sea_boat', 0.3901)])\n",
      "(0.0769, u'cruiser', [(u'convertible', 0.5837), (u'roadster', 0.4175), (u'car', 0.3928)])\n",
      "(0.0837, u'love_seat', [(u'console_table', 0.5027), (u'convertible', 0.2074), (u'coffee_table', 0.1936)])\n",
      "(0.0868, u'bag', [(u'tender', 0.1676), (u'telephone', 0.1676), (u'console_table', 0.1661)])\n",
      "(0.0906, u'sedan', [(u'convertible', 0.5233), (u'car', 0.3901), (u'roadster', 0.3502)])\n",
      "(0.0961, u'piano', [(u'console_table', 0.3598), (u'cellular_telephone', 0.1799), (u'telephone', 0.1703)])\n",
      "(0.1057, u'planter', [(u'console_table', 0.2706), (u'mug', 0.2074), (u'basket', 0.1881)])\n",
      "(0.1153, u'easy_chair', [(u'straight_chair', 0.2829), (u'console_table', 0.2541), (u'lawn_chair', 0.2032)])\n",
      "(0.1176, u'grand_piano', [(u'tender', 0.204), (u'lawn_chair', 0.193), (u'sailboat', 0.1893)])\n",
      "(0.1318, u'loudspeaker', [(u'vertical_file', 0.3571), (u'console_table', 0.3255), (u'tweeter', 0.3159)])\n",
      "(0.1373, u'mailbox', [(u'tender', 0.1881), (u'faucet', 0.1771), (u'console_table', 0.1771)])\n",
      "(0.1428, u'sofa', [(u'console_table', 0.4409), (u'convertible', 0.206), (u'coffee_table', 0.1991)])\n",
      "(0.1428, u'sports_car', [(u'convertible', 0.5439), (u'roadster', 0.3777), (u'car', 0.3365)])\n",
      "(0.1523, u'platform_bed', [(u'console_table', 0.4486), (u'worktable', 0.1917), (u'coffee_table', 0.19)])\n",
      "(0.1524, u'chair', [(u'straight_chair', 0.4725), (u'console_table', 0.3763), (u'lawn_chair', 0.3063)])\n",
      "(0.1538, u'desk', [(u'console_table', 0.6304), (u'kitchen_table', 0.3475), (u'worktable', 0.3447)])\n",
      "(0.1662, u'train', [(u'tender', 0.5274), (u'ship', 0.3516), (u'cruise_ship', 0.3502)])\n",
      "(0.1675, u'bathtub', [(u'console_table', 0.3241), (u'bowl', 0.1648), (u'coffee_table', 0.162)])\n",
      "(0.1675, u'racer', [(u'convertible', 0.4876), (u'roadster', 0.3571), (u'tender', 0.3365)])\n",
      "(0.1704, u'drafting_table', [(u'console_table', 0.6401), (u'worktable', 0.4507), (u'kitchen_table', 0.4431)])\n",
      "(0.1736, u'ferry', [(u'tender', 0.7465), (u'ship', 0.5972), (u'sea_boat', 0.559)])\n",
      "(0.1844, u'table-tennis_table', [(u'console_table', 0.543), (u'worktable', 0.5102), (u'kitchen_table', 0.4159)])\n",
      "(0.1979, u'secretary', [(u'console_table', 0.651), (u'worktable', 0.3819), (u'kitchen_table', 0.3645)])\n",
      "(0.2032, u'monitor', [(u'liquid_crystal_display', 0.2678), (u'screen', 0.2293), (u'laptop', 0.2142)])\n",
      "(0.2087, u'armchair', [(u'straight_chair', 0.456), (u'folding_chair', 0.3598), (u'console_table', 0.3489)])\n",
      "(0.211, u'stock_car', [(u'convertible', 0.5308), (u'roadster', 0.3668), (u'boat', 0.336)])\n",
      "(0.2211, u'park_bench', [(u'console_table', 0.4162), (u'bench', 0.3736), (u'lawn_chair', 0.2651)])\n",
      "(0.228, u'convertible', [(u'console_table', 0.4848), (u'pool_table', 0.2486), (u'coffee_table', 0.2101)])\n",
      "(0.228, u'dishwasher', [(u'tweeter', 0.6799), (u'microwave', 0.6607), (u'vertical_file', 0.6401)])\n",
      "(0.2321, u'pistol', [(u'tender', 0.3434), (u'revolver', 0.3159), (u'guitar', 0.2568)])\n",
      "(0.2486, u'coupe', [(u'convertible', 0.5604), (u'roadster', 0.3887), (u'car', 0.3667)])\n",
      "(0.2513, u'file', [(u'vertical_file', 0.4958), (u'console_table', 0.4354), (u'tweeter', 0.364)])\n",
      "(0.254, u'school_bus', [(u'bus', 0.2701), (u'tender', 0.254), (u'sofa', 0.1915)])\n",
      "(0.2601, u'cabin_cruiser', [(u'tender', 0.6773), (u'ship', 0.5472), (u'sea_boat', 0.4881)])\n",
      "(0.2623, u'coffee_table', [(u'console_table', 0.5178), (u'kitchen_table', 0.3076), (u'worktable', 0.2925)])\n",
      "(0.2623, u'rifle', [(u'carbine', 0.467), (u'guitar', 0.4436), (u'sniper_rifle', 0.4299)])\n",
      "(0.2678, u'pool_table', [(u'console_table', 0.573), (u'coffee_table', 0.2905), (u'worktable', 0.284)])\n",
      "(0.2708, u'basket', [(u'console_table', 0.2916), (u'bowl', 0.1761), (u'tweeter', 0.1742)])\n",
      "(0.2884, u'table', [(u'console_table', 0.5892), (u'kitchen_table', 0.4752), (u'worktable', 0.4368)])\n",
      "(0.3021, u'swivel_chair', [(u'folding_chair', 0.3942), (u'straight_chair', 0.3791), (u'faucet', 0.2829)])\n",
      "(0.309, u'liquid_crystal_display', [(u'screen', 0.2953), (u'laptop', 0.2582), (u'monitor', 0.2225)])\n",
      "(0.3159, u'windsor_chair', [(u'straight_chair', 0.6153), (u'folding_chair', 0.526), (u'lawn_chair', 0.4189)])\n",
      "(0.3282, u'bench', [(u'console_table', 0.6112), (u'kitchen_table', 0.3049), (u'worktable', 0.3035)])\n",
      "(0.331, u'berth', [(u'console_table', 0.7074), (u'worktable', 0.423), (u'secretary', 0.2472)])\n",
      "(0.3365, u'cabinet', [(u'console_table', 0.5535), (u'bookshelf', 0.3035), (u'vertical_file', 0.298)])\n",
      "(0.3373, u'birdhouse', [(u'console_table', 0.3373), (u'worktable', 0.19), (u'berth', 0.178)])\n",
      "(0.3406, u'lamp', [(u'table_lamp', 0.4244), (u'faucet', 0.364), (u'microphone', 0.3489)])\n",
      "(0.3617, u'remote_control', [(u'cellular_telephone', 0.4583), (u'telephone', 0.4185), (u'data_input_device', 0.2481)])\n",
      "(0.3653, u'yacht', [(u'tender', 0.7733), (u'sea_boat', 0.6483), (u'ship', 0.5096)])\n",
      "(0.3695, u'revolver', [(u'tender', 0.412), (u'guitar', 0.364), (u'ship', 0.3076)])\n",
      "(0.375, u'car', [(u'convertible', 0.548), (u'roadster', 0.3887), (u'tender', 0.2541)])\n",
      "(0.3763, u'pot', [(u'vase', 0.3021), (u'helmet', 0.2472), (u'tender', 0.2458)])\n",
      "(0.3804, u'bookshelf', [(u'console_table', 0.5782), (u'cabinet', 0.2431), (u'bench', 0.2225)])\n",
      "(0.3818, u'screen', [(u'telephone', 0.3035), (u'cellular_telephone', 0.2898), (u'data_input_device', 0.2651)])\n",
      "(0.3863, u'rocking_chair', [(u'straight_chair', 0.4914), (u'folding_chair', 0.4559), (u'lawn_chair', 0.4545)])\n",
      "(0.3956, u'clock', [(u'bowl', 0.2802), (u'cap', 0.2197), (u'telephone', 0.2074)])\n",
      "(0.3983, u'ashcan', [(u'mug', 0.3901), (u'jar', 0.3489), (u'basket', 0.2458)])\n",
      "(0.401, u'bus', [(u'dresser', 0.2802), (u'school_bus', 0.2651), (u'vertical_file', 0.2554)])\n",
      "(0.4162, u'dresser', [(u'console_table', 0.5219), (u'vertical_file', 0.4972), (u'cabinet', 0.3131)])\n",
      "(0.4181, u'roadster', [(u'convertible', 0.556), (u'tender', 0.2959), (u'boat', 0.2729)])\n",
      "(0.4189, u'tweeter', [(u'vertical_file', 0.4052), (u'microwave', 0.309), (u'console_table', 0.2719)])\n",
      "(0.4354, u'table_lamp', [(u'faucet', 0.3626), (u'earphone', 0.3379), (u'lamp', 0.2967)])\n",
      "(0.4381, u'vase', [(u'helmet', 0.2733), (u'pot', 0.2719), (u'bowl', 0.2431)])\n",
      "(0.4519, u'boat', [(u'tender', 0.651), (u'sea_boat', 0.5343), (u'ship', 0.3887)])\n",
      "(0.4519, u'washer', [(u'vertical_file', 0.6236), (u'tweeter', 0.6016), (u'microwave', 0.5549)])\n",
      "(0.4714, u'lawn_chair', [(u'straight_chair', 0.4892), (u'folding_chair', 0.4392), (u'console_table', 0.4339)])\n",
      "(0.4816, u'coffee_mug', [(u'mug', 0.6883), (u'basket', 0.3566), (u'jar', 0.3033)])\n",
      "(0.4931, u'worktable', [(u'console_table', 0.6662), (u'kitchen_table', 0.4793), (u'table', 0.2802)])\n",
      "(0.4962, u'microphone', [(u'table_lamp', 0.3414), (u'lamp', 0.2966), (u'faucet', 0.2854)])\n",
      "(0.4986, u'wheeled_vehicle', [(u'guitar', 0.3667), (u'tender', 0.2912), (u'knife', 0.2637)])\n",
      "(0.5164, u'ship', [(u'tender', 0.6785), (u'sea_boat', 0.5054), (u'cruise_ship', 0.2884)])\n",
      "(0.5178, u'faucet', [(u'table_lamp', 0.3392), (u'earphone', 0.3351), (u'jet', 0.217)])\n",
      "(0.5274, u'pillow', [(u'boat', 0.3159), (u'sea_boat', 0.3104), (u'tender', 0.2637)])\n",
      "(0.5301, u'sea_boat', [(u'tender', 0.6762), (u'ship', 0.4548), (u'boat', 0.3012)])\n",
      "(0.5508, u'carbine', [(u'sniper_rifle', 0.5123), (u'dagger', 0.4917), (u'guitar', 0.4684)])\n",
      "(0.5535, u'sniper_rifle', [(u'dagger', 0.5618), (u'carbine', 0.5315), (u'guitar', 0.4945)])\n",
      "(0.5686, u'bottle', [(u'wine_bottle', 0.4862), (u'vase', 0.3131), (u'jar', 0.2939)])\n",
      "(0.5906, u'cruise_ship', [(u'tender', 0.7884), (u'ship', 0.6373), (u'sea_boat', 0.5412)])\n",
      "(0.5906, u'motorcycle', [(u'faucet', 0.3969), (u'tender', 0.3873), (u'earphone', 0.331)])\n",
      "(0.5947, u'sailboat', [(u'tender', 0.4793), (u'sea_boat', 0.3887), (u'delta_wing', 0.2925)])\n",
      "(0.5957, u'data_input_device', [(u'cellular_telephone', 0.5332), (u'telephone', 0.5332), (u'screen', 0.4882)])\n",
      "(0.603, u'jar', [(u'mug', 0.4532), (u'soda_can', 0.3873), (u'vase', 0.342)])\n",
      "(0.6078, u'kitchen_table', [(u'console_table', 0.6352), (u'worktable', 0.5085), (u'table', 0.3972)])\n",
      "(0.6085, u'microwave', [(u'vertical_file', 0.6758), (u'tweeter', 0.6098), (u'washer', 0.4642)])\n",
      "(0.6277, u'laptop', [(u'kitchen_table', 0.4258), (u'console_table', 0.3365), (u'worktable', 0.2788)])\n",
      "(0.6291, u'straight_chair', [(u'folding_chair', 0.4354), (u'lawn_chair', 0.4203), (u'console_table', 0.3873)])\n",
      "(0.6387, u'mug', [(u'coffee_mug', 0.4285), (u'basket', 0.3379), (u'jar', 0.3337)])\n",
      "(0.6423, u'folding_chair', [(u'straight_chair', 0.6326), (u'lawn_chair', 0.5519), (u'console_table', 0.3288)])\n",
      "(0.6469, u'convertible', [(u'roadster', 0.5151), (u'car', 0.3392), (u'tender', 0.2898)])\n",
      "(0.6634, u'knife', [(u'dagger', 0.6318), (u'tender', 0.4505), (u'guitar', 0.4107)])\n",
      "(0.695, u'guitar', [(u'dagger', 0.5302), (u'knife', 0.3804), (u'carbine', 0.3214)])\n",
      "(0.6964, u'wine_bottle', [(u'bottle', 0.5879), (u'tender', 0.4464), (u'cruise_ship', 0.3076)])\n",
      "(0.7018, u'dagger', [(u'knife', 0.5843), (u'guitar', 0.5195), (u'sniper_rifle', 0.3975)])\n",
      "(0.7019, u'airplane', [(u'delta_wing', 0.6717), (u'jet', 0.6662), (u'propeller_plane', 0.5631)])\n",
      "(0.7042, u'cap', [(u'bowl', 0.7286), (u'earphone', 0.442), (u'helmet', 0.4054)])\n",
      "(0.7129, u'console_table', [(u'worktable', 0.3804), (u'kitchen_table', 0.3543), (u'coffee_table', 0.2527)])\n",
      "(0.7142, u'telephone', [(u'cellular_telephone', 0.7032), (u'remote_control', 0.3516), (u'data_input_device', 0.3516)])\n",
      "(0.7142, u'tender', [(u'sea_boat', 0.5453), (u'ship', 0.478), (u'cruise_ship', 0.3214)])\n",
      "(0.7197, u'helmet', [(u'bowl', 0.5975), (u'cap', 0.5068), (u'vase', 0.4189)])\n",
      "(0.7211, u'delta_wing', [(u'airplane', 0.6634), (u'jet', 0.6442), (u'sailboat', 0.5315)])\n",
      "(0.7329, u'vertical_file', [(u'dresser', 0.4857), (u'console_table', 0.4318), (u'tweeter', 0.4204)])\n",
      "(0.739, u'propeller_plane', [(u'jet', 0.7953), (u'airplane', 0.7596), (u'delta_wing', 0.6373)])\n",
      "(0.7582, u'cellular_telephone', [(u'telephone', 0.7417), (u'data_input_device', 0.423), (u'screen', 0.3928)])\n",
      "(0.766, u'soda_can', [(u'jar', 0.7964), (u'bottle', 0.6142), (u'ashcan', 0.5464)])\n",
      "(0.7808, u'earphone', [(u'faucet', 0.428), (u'bowl', 0.3698), (u'table_lamp', 0.363)])\n",
      "(0.8115, u'floor_lamp', [(u'lamp', 0.7326), (u'microphone', 0.673), (u'table_lamp', 0.6634)])\n",
      "(0.8791, u'jet', [(u'airplane', 0.8475), (u'delta_wing', 0.7582), (u'propeller_plane', 0.7184)])\n",
      "(0.8804, u'bowl', [(u'cap', 0.7788), (u'helmet', 0.5274), (u'earphone', 0.4299)])\n"
     ]
    }
   ],
   "source": [
    "get_sort_top3(top5_conmat);"
   ]
  },
  {
   "cell_type": "code",
   "execution_count": 146,
   "metadata": {
    "collapsed": false,
    "deletable": true,
    "editable": true
   },
   "outputs": [
    {
     "name": "stdout",
     "output_type": "stream",
     "text": [
      "{0: u'cap', 1: u'table-tennis_table', 2: u'camera', 3: u'school_bus', 4: u'upright', 5: u'data_input_device', 6: u'floor_lamp', 7: u'folding_chair', 8: u'basket', 9: u'drafting_table', 10: u'limousine', 11: u'remote_control', 12: u'microphone', 13: u'grand_piano', 14: u'soda_can', 15: u'ferry', 16: u'birdhouse', 17: u'earphone', 18: u'kitchen_table', 19: u'lawn_chair', 20: u'platform_bed', 21: u'secretary', 22: u'ambulance', 23: u'cabin_cruiser', 24: u'coffee_mug', 25: u'pool_table', 26: u'stock_car', 27: u'bag', 28: u'dagger', 29: u'sea_boat', 30: u'pendulum_clock', 31: u'vertical_file', 32: u'roadster', 33: u'rocking_chair', 34: u'dishwasher', 35: u'mailbox', 36: u'jeep', 37: u'pillow', 38: u'piano', 39: u'convertible', 40: u'monitor', 41: u'jar', 42: u'sailboat', 43: u'delta_wing', 44: u'love_seat', 45: u'cruise_ship', 46: u'beach_wagon', 47: u'yacht', 48: u'revolver', 49: u'mug', 50: u'berth', 51: u'wine_bottle', 52: u'propeller_plane', 53: u'helmet', 54: u'printer', 55: u'microwave', 56: u'wheeled_vehicle', 57: u'washer', 58: u'pistol', 59: u'carbine', 60: u'bowl', 61: u'cruiser', 62: u'sports_car', 63: u'file', 64: u'stove', 65: u'ship', 66: u'windsor_chair', 67: u'telephone', 68: u'convertible', 69: u'pot', 70: u'bottle', 71: u'worktable', 72: u'motorcycle', 73: u'planter', 74: u'tender', 75: u'train', 76: u'knife', 77: u'console_table', 78: u'racer', 79: u'ashcan', 80: u'screen', 81: u'sport_utility', 82: u'swivel_chair', 83: u'easy_chair', 84: u'clock', 85: u'boat', 86: u'bookshelf', 87: u'laptop', 88: u'table_lamp', 89: u'vase', 90: u'dresser', 91: u'sedan', 92: u'liquid_crystal_display', 93: u'coupe', 94: u'tweeter', 95: u'faucet', 96: u'sniper_rifle', 97: u'guitar', 98: u'cellular_telephone', 99: u'bus', 100: u'park_bench', 101: u'bathtub', 102: u'car', 103: u'bench', 104: u'loudspeaker', 105: u'cabinet', 106: u'coffee_table', 107: u'armchair', 108: u'rifle', 109: u'desk', 110: u'airplane', 111: u'straight_chair', 112: u'lamp', 113: u'jet', 114: u'chair', 115: u'sofa', 116: u'table'}\n"
     ]
    }
   ],
   "source": [
    "print(cate_dict)"
   ]
  },
  {
   "cell_type": "code",
   "execution_count": null,
   "metadata": {
    "collapsed": true,
    "deletable": true,
    "editable": true
   },
   "outputs": [],
   "source": []
  },
  {
   "cell_type": "code",
   "execution_count": null,
   "metadata": {
    "collapsed": true,
    "deletable": true,
    "editable": true
   },
   "outputs": [],
   "source": []
  },
  {
   "cell_type": "markdown",
   "metadata": {
    "deletable": true,
    "editable": true
   },
   "source": [
    "# Old script for draw things"
   ]
  },
  {
   "cell_type": "code",
   "execution_count": 97,
   "metadata": {
    "collapsed": true,
    "deletable": true,
    "editable": true
   },
   "outputs": [],
   "source": [
    "num_cate = 117"
   ]
  },
  {
   "cell_type": "code",
   "execution_count": 96,
   "metadata": {
    "collapsed": true,
    "deletable": true,
    "editable": true
   },
   "outputs": [],
   "source": [
    "aggre_arr = np.zeros([num_cate, num_cate])"
   ]
  },
  {
   "cell_type": "code",
   "execution_count": 98,
   "metadata": {
    "collapsed": true,
    "deletable": true,
    "editable": true
   },
   "outputs": [],
   "source": [
    "for data_indx in xrange(data_label.size):\n",
    "    label_now = int(data_label[data_indx])\n",
    "    aggre_arr[label_now] = aggre_arr[label_now] + data[data_indx]\n",
    "\n",
    "for label_now in xrange(num_cate):\n",
    "    aggre_arr[label_now] = aggre_arr[label_now]/np.sum(data_label==label_now)\n",
    "    "
   ]
  },
  {
   "cell_type": "code",
   "execution_count": 99,
   "metadata": {
    "collapsed": true,
    "deletable": true,
    "editable": true
   },
   "outputs": [],
   "source": [
    "dis_matrix = 1 - np.corrcoef(aggre_arr)"
   ]
  },
  {
   "cell_type": "code",
   "execution_count": 100,
   "metadata": {
    "collapsed": false,
    "deletable": true,
    "editable": true
   },
   "outputs": [
    {
     "data": {
      "text/plain": [
       "(117, 117)"
      ]
     },
     "execution_count": 100,
     "metadata": {},
     "output_type": "execute_result"
    }
   ],
   "source": [
    "dis_matrix.shape"
   ]
  },
  {
   "cell_type": "code",
   "execution_count": 104,
   "metadata": {
    "collapsed": false,
    "deletable": true,
    "editable": true
   },
   "outputs": [],
   "source": [
    "mds = manifold.MDS(n_components=2, max_iter=3000, eps=1e-9, random_state=0,\n",
    "                   dissimilarity=\"precomputed\", n_jobs=1)"
   ]
  },
  {
   "cell_type": "code",
   "execution_count": 105,
   "metadata": {
    "collapsed": true,
    "deletable": true,
    "editable": true
   },
   "outputs": [],
   "source": [
    "pos = mds.fit(dis_matrix).embedding_"
   ]
  },
  {
   "cell_type": "code",
   "execution_count": 106,
   "metadata": {
    "collapsed": false,
    "deletable": true,
    "editable": true
   },
   "outputs": [
    {
     "data": {
      "text/plain": [
       "(117, 2)"
      ]
     },
     "execution_count": 106,
     "metadata": {},
     "output_type": "execute_result"
    }
   ],
   "source": [
    "pos.shape"
   ]
  },
  {
   "cell_type": "code",
   "execution_count": 116,
   "metadata": {
    "collapsed": false,
    "deletable": true,
    "editable": true
   },
   "outputs": [],
   "source": [
    "cate_info_path = '../cmd_gen_mp4/category_info.txt'\n",
    "\n",
    "fin = open(cate_info_path, 'r')\n",
    "lines = fin.readlines()\n",
    "\n",
    "cate_dict = {}\n",
    "\n",
    "for line in lines:\n",
    "    split_line = line.split()\n",
    "    indx_cate_now = int(split_line[0])\n",
    "    label_inter = split_line[1]\n",
    "    if label_inter[0]=='[':\n",
    "        label_int = int(label_inter[3:11])\n",
    "    else:\n",
    "        label_int = int(label_inter[1:])\n",
    "    \n",
    "    syn_now = wn._synset_from_pos_and_offset('n',label_int)\n",
    "    cate_dict[indx_cate_now] = syn_now.name().split('.')[0]"
   ]
  },
  {
   "cell_type": "code",
   "execution_count": 117,
   "metadata": {
    "collapsed": true,
    "deletable": true,
    "editable": true
   },
   "outputs": [
    {
     "data": {
      "text/plain": [
       "{0: u'cap',\n",
       " 1: u'table-tennis_table',\n",
       " 2: u'camera',\n",
       " 3: u'school_bus',\n",
       " 4: u'upright',\n",
       " 5: u'data_input_device',\n",
       " 6: u'floor_lamp',\n",
       " 7: u'folding_chair',\n",
       " 8: u'basket',\n",
       " 9: u'drafting_table',\n",
       " 10: u'limousine',\n",
       " 11: u'remote_control',\n",
       " 12: u'microphone',\n",
       " 13: u'grand_piano',\n",
       " 14: u'soda_can',\n",
       " 15: u'ferry',\n",
       " 16: u'birdhouse',\n",
       " 17: u'earphone',\n",
       " 18: u'kitchen_table',\n",
       " 19: u'lawn_chair',\n",
       " 20: u'platform_bed',\n",
       " 21: u'secretary',\n",
       " 22: u'ambulance',\n",
       " 23: u'cabin_cruiser',\n",
       " 24: u'coffee_mug',\n",
       " 25: u'pool_table',\n",
       " 26: u'stock_car',\n",
       " 27: u'bag',\n",
       " 28: u'dagger',\n",
       " 29: u'sea_boat',\n",
       " 30: u'pendulum_clock',\n",
       " 31: u'vertical_file',\n",
       " 32: u'roadster',\n",
       " 33: u'rocking_chair',\n",
       " 34: u'dishwasher',\n",
       " 35: u'mailbox',\n",
       " 36: u'jeep',\n",
       " 37: u'pillow',\n",
       " 38: u'piano',\n",
       " 39: u'convertible',\n",
       " 40: u'monitor',\n",
       " 41: u'jar',\n",
       " 42: u'sailboat',\n",
       " 43: u'delta_wing',\n",
       " 44: u'love_seat',\n",
       " 45: u'cruise_ship',\n",
       " 46: u'beach_wagon',\n",
       " 47: u'yacht',\n",
       " 48: u'revolver',\n",
       " 49: u'mug',\n",
       " 50: u'berth',\n",
       " 51: u'wine_bottle',\n",
       " 52: u'propeller_plane',\n",
       " 53: u'helmet',\n",
       " 54: u'printer',\n",
       " 55: u'microwave',\n",
       " 56: u'wheeled_vehicle',\n",
       " 57: u'washer',\n",
       " 58: u'pistol',\n",
       " 59: u'carbine',\n",
       " 60: u'bowl',\n",
       " 61: u'cruiser',\n",
       " 62: u'sports_car',\n",
       " 63: u'file',\n",
       " 64: u'stove',\n",
       " 65: u'ship',\n",
       " 66: u'windsor_chair',\n",
       " 67: u'telephone',\n",
       " 68: u'convertible',\n",
       " 69: u'pot',\n",
       " 70: u'bottle',\n",
       " 71: u'worktable',\n",
       " 72: u'motorcycle',\n",
       " 73: u'planter',\n",
       " 74: u'tender',\n",
       " 75: u'train',\n",
       " 76: u'knife',\n",
       " 77: u'console_table',\n",
       " 78: u'racer',\n",
       " 79: u'ashcan',\n",
       " 80: u'screen',\n",
       " 81: u'sport_utility',\n",
       " 82: u'swivel_chair',\n",
       " 83: u'easy_chair',\n",
       " 84: u'clock',\n",
       " 85: u'boat',\n",
       " 86: u'bookshelf',\n",
       " 87: u'laptop',\n",
       " 88: u'table_lamp',\n",
       " 89: u'vase',\n",
       " 90: u'dresser',\n",
       " 91: u'sedan',\n",
       " 92: u'liquid_crystal_display',\n",
       " 93: u'coupe',\n",
       " 94: u'tweeter',\n",
       " 95: u'faucet',\n",
       " 96: u'sniper_rifle',\n",
       " 97: u'guitar',\n",
       " 98: u'cellular_telephone',\n",
       " 99: u'bus',\n",
       " 100: u'park_bench',\n",
       " 101: u'bathtub',\n",
       " 102: u'car',\n",
       " 103: u'bench',\n",
       " 104: u'loudspeaker',\n",
       " 105: u'cabinet',\n",
       " 106: u'coffee_table',\n",
       " 107: u'armchair',\n",
       " 108: u'rifle',\n",
       " 109: u'desk',\n",
       " 110: u'airplane',\n",
       " 111: u'straight_chair',\n",
       " 112: u'lamp',\n",
       " 113: u'jet',\n",
       " 114: u'chair',\n",
       " 115: u'sofa',\n",
       " 116: u'table'}"
      ]
     },
     "execution_count": 117,
     "metadata": {},
     "output_type": "execute_result"
    }
   ],
   "source": [
    "cate_dict"
   ]
  },
  {
   "cell_type": "code",
   "execution_count": 125,
   "metadata": {
    "collapsed": false,
    "deletable": true,
    "editable": true
   },
   "outputs": [
    {
     "name": "stdout",
     "output_type": "stream",
     "text": [
      "(u'drafting_table', 0.0)\n",
      "(u'cruiser', 0.0)\n",
      "(u'sport_utility', 0.0013736263736263737)\n",
      "(u'ferry', 0.001736111111111111)\n",
      "(u'stove', 0.0027472527472527475)\n",
      "(u'sedan', 0.0027472527472527475)\n",
      "(u'pendulum_clock', 0.002976190476190476)\n",
      "(u'beach_wagon', 0.004120879120879121)\n",
      "(u'file', 0.004120879120879121)\n",
      "(u'loudspeaker', 0.004120879120879121)\n",
      "(u'cabin_cruiser', 0.005067567567567568)\n",
      "(u'secretary', 0.005208333333333333)\n",
      "(u'jeep', 0.005494505494505495)\n",
      "(u'planter', 0.005494505494505495)\n",
      "(u'chair', 0.005494505494505495)\n",
      "(u'camera', 0.006048387096774193)\n",
      "(u'stock_car', 0.006493506493506494)\n",
      "(u'racer', 0.006868131868131868)\n",
      "(u'rifle', 0.006868131868131868)\n",
      "(u'desk', 0.006868131868131868)\n",
      "(u'table', 0.006868131868131868)\n",
      "(u'printer', 0.008241758241758242)\n",
      "(u'ambulance', 0.008680555555555556)\n",
      "(u'piano', 0.009615384615384616)\n",
      "(u'lamp', 0.009615384615384616)\n",
      "(u'upright', 0.011904761904761904)\n",
      "(u'love_seat', 0.012362637362637362)\n",
      "(u'bag', 0.013719512195121951)\n",
      "(u'limousine', 0.015151515151515152)\n",
      "(u'easy_chair', 0.016483516483516484)\n",
      "(u'platform_bed', 0.017123287671232876)\n",
      "(u'armchair', 0.017857142857142856)\n",
      "(u'coffee_mug', 0.018333333333333333)\n",
      "(u'yacht', 0.019230769230769232)\n",
      "(u'sofa', 0.020604395604395604)\n",
      "(u'train', 0.023351648351648352)\n",
      "(u'grand_piano', 0.02389705882352941)\n",
      "(u'sports_car', 0.024725274725274724)\n",
      "(u'monitor', 0.0260989010989011)\n",
      "(u'airplane', 0.03021978021978022)\n",
      "(u'sea_boat', 0.03313253012048193)\n",
      "(u'coupe', 0.034340659340659344)\n",
      "(u'park_bench', 0.034340659340659344)\n",
      "(u'table-tennis_table', 0.03483606557377049)\n",
      "(u'mailbox', 0.03571428571428571)\n",
      "(u'windsor_chair', 0.03571428571428571)\n",
      "(u'coffee_table', 0.03571428571428571)\n",
      "(u'basket', 0.03787878787878788)\n",
      "(u'bathtub', 0.042582417582417584)\n",
      "(u'ship', 0.04395604395604396)\n",
      "(u'screen', 0.04395604395604396)\n",
      "(u'dresser', 0.04807692307692308)\n",
      "(u'pistol', 0.050824175824175824)\n",
      "(u'school_bus', 0.05443548387096774)\n",
      "(u'cabinet', 0.054945054945054944)\n",
      "(u'roadster', 0.05890804597701149)\n",
      "(u'liquid_crystal_display', 0.059065934065934064)\n",
      "(u'lawn_chair', 0.060714285714285714)\n",
      "(u'pool_table', 0.06168831168831169)\n",
      "(u'convertible', 0.061813186813186816)\n",
      "(u'tweeter', 0.06593406593406594)\n",
      "(u'dishwasher', 0.0673076923076923)\n",
      "(u'worktable', 0.0673076923076923)\n",
      "(u'car', 0.0673076923076923)\n",
      "(u'jar', 0.07142857142857142)\n",
      "(u'sniper_rifle', 0.08104395604395605)\n",
      "(u'remote_control', 0.08333333333333333)\n",
      "(u'washer', 0.08516483516483517)\n",
      "(u'table_lamp', 0.08791208791208792)\n",
      "(u'bench', 0.09752747252747253)\n",
      "(u'cap', 0.0975609756097561)\n",
      "(u'swivel_chair', 0.0989010989010989)\n",
      "(u'microwave', 0.10302197802197802)\n",
      "(u'boat', 0.10302197802197802)\n",
      "(u'propeller_plane', 0.11263736263736264)\n",
      "(u'revolver', 0.12225274725274725)\n",
      "(u'berth', 0.125)\n",
      "(u'rocking_chair', 0.13920454545454544)\n",
      "(u'microphone', 0.13992537313432835)\n",
      "(u'bookshelf', 0.14423076923076922)\n",
      "(u'ashcan', 0.14972527472527472)\n",
      "(u'faucet', 0.15934065934065933)\n",
      "(u'pot', 0.16071428571428573)\n",
      "(u'vase', 0.16346153846153846)\n",
      "(u'bottle', 0.1813186813186813)\n",
      "(u'birdhouse', 0.18664383561643835)\n",
      "(u'carbine', 0.18681318681318682)\n",
      "(u'kitchen_table', 0.18835616438356165)\n",
      "(u'bus', 0.19093406593406592)\n",
      "(u'clock', 0.2087912087912088)\n",
      "(u'cellular_telephone', 0.21703296703296704)\n",
      "(u'cruise_ship', 0.2541208791208791)\n",
      "(u'wheeled_vehicle', 0.2664835164835165)\n",
      "(u'data_input_device', 0.275390625)\n",
      "(u'helmet', 0.27884615384615385)\n",
      "(u'knife', 0.28708791208791207)\n",
      "(u'sailboat', 0.29120879120879123)\n",
      "(u'straight_chair', 0.29120879120879123)\n",
      "(u'tender', 0.29945054945054944)\n",
      "(u'guitar', 0.29945054945054944)\n",
      "(u'folding_chair', 0.3)\n",
      "(u'mug', 0.3076923076923077)\n",
      "(u'dagger', 0.3177710843373494)\n",
      "(u'delta_wing', 0.3241758241758242)\n",
      "(u'telephone', 0.33379120879120877)\n",
      "(u'motorcycle', 0.34065934065934067)\n",
      "(u'pillow', 0.35027472527472525)\n",
      "(u'console_table', 0.37362637362637363)\n",
      "(u'convertible', 0.3956043956043956)\n",
      "(u'wine_bottle', 0.41620879120879123)\n",
      "(u'vertical_file', 0.42045454545454547)\n",
      "(u'laptop', 0.4423076923076923)\n",
      "(u'soda_can', 0.4660714285714286)\n",
      "(u'earphone', 0.5222602739726028)\n",
      "(u'jet', 0.5686813186813187)\n",
      "(u'floor_lamp', 0.6538461538461539)\n",
      "(u'bowl', 0.7101648351648352)\n"
     ]
    }
   ],
   "source": [
    "for item_tmp in perf_list:\n",
    "    cate_tmp = item_tmp[1]\n",
    "    print(cate_dict[cate_tmp], item_tmp[0])"
   ]
  },
  {
   "cell_type": "code",
   "execution_count": null,
   "metadata": {
    "collapsed": true,
    "deletable": true,
    "editable": true
   },
   "outputs": [],
   "source": []
  },
  {
   "cell_type": "code",
   "execution_count": null,
   "metadata": {
    "collapsed": true,
    "deletable": true,
    "editable": true
   },
   "outputs": [],
   "source": []
  },
  {
   "cell_type": "code",
   "execution_count": null,
   "metadata": {
    "collapsed": true,
    "deletable": true,
    "editable": true
   },
   "outputs": [],
   "source": []
  },
  {
   "cell_type": "code",
   "execution_count": 120,
   "metadata": {
    "collapsed": false,
    "deletable": true,
    "editable": true
   },
   "outputs": [
    {
     "data": {
      "text/plain": [
       "<matplotlib.collections.PathCollection at 0x7f31e3b840d0>"
      ]
     },
     "execution_count": 120,
     "metadata": {},
     "output_type": "execute_result"
    },
    {
     "data": {
      "image/png": "[encoded data removed]",
      "text/plain": [
       "<matplotlib.figure.Figure at 0x7f31e54166d0>"
      ]
     },
     "metadata": {},
     "output_type": "display_data"
    }
   ],
   "source": [
    "\n",
    "fig = plt.figure(figsize=(10, 10))\n",
    "plt.scatter(pos[:, 0], pos[:, 1])"
   ]
  },
  {
   "cell_type": "code",
   "execution_count": 122,
   "metadata": {
    "collapsed": false,
    "deletable": true,
    "editable": true
   },
   "outputs": [
    {
     "data": {
      "image/png": "[encoded data removed]",
      "text/plain": [
       "<matplotlib.figure.Figure at 0x7f31e3b59390>"
      ]
     },
     "metadata": {},
     "output_type": "display_data"
    }
   ],
   "source": [
    "\n",
    "fig = plt.figure(figsize=(20, 20))\n",
    "plt.scatter(pos[:, 0], pos[:, 1])\n",
    "for indx_cate in xrange(num_cate):\n",
    "    plt.text(pos[indx_cate, 0] - 0.02, pos[indx_cate, 1] + 0.01, cate_dict[indx_cate])"
   ]
  },
  {
   "cell_type": "code",
   "execution_count": null,
   "metadata": {
    "collapsed": true,
    "deletable": true,
    "editable": true
   },
   "outputs": [],
   "source": []
  }
 ],
 "metadata": {
  "kernelspec": {
   "display_name": "Python 2",
   "language": "python",
   "name": "python2"
  },
  "language_info": {
   "codemirror_mode": {
    "name": "ipython",
    "version": 2
   },
   "file_extension": ".py",
   "mimetype": "text/x-python",
   "name": "python",
   "nbconvert_exporter": "python",
   "pygments_lexer": "ipython2",
   "version": "2.7.12"
  }
 },
 "nbformat": 4,
 "nbformat_minor": 2
}
