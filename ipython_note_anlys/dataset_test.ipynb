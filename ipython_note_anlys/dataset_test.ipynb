{
 "cells": [
  {
   "cell_type": "code",
   "execution_count": 1,
   "metadata": {
    "collapsed": true,
    "deletable": true,
    "editable": true
   },
   "outputs": [],
   "source": [
    "import os\n",
    "import h5py\n",
    "import numpy as np\n",
    "\n",
    "data_path = '/home/chengxuz/barrel/barrel_github/dataset/hdf5s/'"
   ]
  },
  {
   "cell_type": "code",
   "execution_count": 2,
   "metadata": {
    "collapsed": true,
    "deletable": true,
    "editable": true
   },
   "outputs": [],
   "source": [
    "fin_test = h5py.File(os.path.join(data_path, 'duck_-102484264253777546.hdf5'), 'r')"
   ]
  },
  {
   "cell_type": "code",
   "execution_count": 3,
   "metadata": {
    "collapsed": false,
    "deletable": true,
    "editable": true
   },
   "outputs": [
    {
     "data": {
      "text/plain": [
       "[u'Data_force', u'Data_torque', u'orn', u'position', u'scale', u'speed']"
      ]
     },
     "execution_count": 3,
     "metadata": {},
     "output_type": "execute_result"
    }
   ],
   "source": [
    "fin_test.keys()"
   ]
  },
  {
   "cell_type": "code",
   "execution_count": 4,
   "metadata": {
    "collapsed": true,
    "deletable": true,
    "editable": true
   },
   "outputs": [],
   "source": [
    "data_force = fin_test['Data_force']"
   ]
  },
  {
   "cell_type": "code",
   "execution_count": 5,
   "metadata": {
    "collapsed": false,
    "deletable": true,
    "editable": true
   },
   "outputs": [
    {
     "data": {
      "text/plain": [
       "(110, 31, 3, 3)"
      ]
     },
     "execution_count": 5,
     "metadata": {},
     "output_type": "execute_result"
    }
   ],
   "source": [
    "data_force.shape"
   ]
  },
  {
   "cell_type": "code",
   "execution_count": 6,
   "metadata": {
    "collapsed": true,
    "deletable": true,
    "editable": true
   },
   "outputs": [],
   "source": [
    "from sklearn import svm"
   ]
  },
  {
   "cell_type": "code",
   "execution_count": 11,
   "metadata": {
    "collapsed": false,
    "deletable": true,
    "editable": true
   },
   "outputs": [
    {
     "data": {
      "text/plain": [
       "30690"
      ]
     },
     "execution_count": 11,
     "metadata": {},
     "output_type": "execute_result"
    }
   ],
   "source": [
    "data_force.size"
   ]
  },
  {
   "cell_type": "code",
   "execution_count": 13,
   "metadata": {
    "collapsed": true,
    "deletable": true,
    "editable": true
   },
   "outputs": [],
   "source": [
    "arr_data_force = np.asarray(data_force)"
   ]
  },
  {
   "cell_type": "code",
   "execution_count": 14,
   "metadata": {
    "collapsed": true,
    "deletable": true,
    "editable": true
   },
   "outputs": [],
   "source": [
    "arr_data_force = arr_data_force.reshape(arr_data_force.size)"
   ]
  },
  {
   "cell_type": "code",
   "execution_count": 15,
   "metadata": {
    "collapsed": false,
    "deletable": true,
    "editable": true
   },
   "outputs": [
    {
     "data": {
      "text/plain": [
       "(30690,)"
      ]
     },
     "execution_count": 15,
     "metadata": {},
     "output_type": "execute_result"
    }
   ],
   "source": [
    "arr_data_force.shape"
   ]
  },
  {
   "cell_type": "code",
   "execution_count": 17,
   "metadata": {
    "collapsed": false,
    "deletable": true,
    "editable": true
   },
   "outputs": [],
   "source": [
    "test_arr = np.concatenate([arr_data_force, arr_data_force])"
   ]
  },
  {
   "cell_type": "code",
   "execution_count": 18,
   "metadata": {
    "collapsed": false,
    "deletable": true,
    "editable": true
   },
   "outputs": [
    {
     "data": {
      "text/plain": [
       "(61380,)"
      ]
     },
     "execution_count": 18,
     "metadata": {},
     "output_type": "execute_result"
    }
   ],
   "source": [
    "test_arr.shape"
   ]
  },
  {
   "cell_type": "code",
   "execution_count": null,
   "metadata": {
    "collapsed": true,
    "deletable": true,
    "editable": true
   },
   "outputs": [],
   "source": []
  },
  {
   "cell_type": "code",
   "execution_count": 44,
   "metadata": {
    "collapsed": true,
    "deletable": true,
    "editable": true
   },
   "outputs": [],
   "source": [
    "def get_asarray(dataset):\n",
    "    ret_arr = np.asarray(dataset)\n",
    "    ret_arr = ret_arr.reshape(ret_arr.size)\n",
    "    return ret_arr\n",
    "\n",
    "def get_data(data_path):\n",
    "    file_list = os.listdir(data_path)\n",
    "    data_x = []\n",
    "    data_y = []\n",
    "    for file_name in file_list:\n",
    "        obj_name = file_name.split('_')[0]\n",
    "        if obj_name=='teddy':\n",
    "            data_y.append(0)\n",
    "        else:\n",
    "            data_y.append(1)\n",
    "        file_path = os.path.join(data_path, file_name)\n",
    "        fin_tmp = h5py.File(file_path)\n",
    "        data_force = get_asarray(fin_tmp['Data_force'])\n",
    "        data_torque = get_asarray(fin_tmp['Data_torque'])\n",
    "        data_x.append(np.concatenate([data_force, data_torque]))\n",
    "        fin_tmp.close()\n",
    "    \n",
    "    return data_x, data_y"
   ]
  },
  {
   "cell_type": "code",
   "execution_count": 211,
   "metadata": {
    "collapsed": true,
    "deletable": true,
    "editable": true
   },
   "outputs": [],
   "source": [
    "'''\n",
    "def get_asarray_part(dataset):\n",
    "    ret_arr = np.asarray(dataset)\n",
    "    #print(ret_arr.shape)\n",
    "    ret_arr = ret_arr[54:56, :, 0, :]\n",
    "    ret_arr_new = np.zeros([2, 31])\n",
    "    for i in xrange(2):\n",
    "        for j in xrange(31):\n",
    "            ret_arr_new[i][j] = np.sqrt(ret_arr[i][j][0]**2 + ret_arr[i][j][1]**2 + ret_arr[i][j][2]**2)\n",
    "    #print(ret_arr.shape)\n",
    "    ret_arr_new = ret_arr_new.reshape(ret_arr_new.size)\n",
    "    #print(ret_arr.size)\n",
    "    return ret_arr_new\n",
    "'''\n",
    "\n",
    "def get_asarray_part(dataset):\n",
    "    ret_arr = np.asarray(dataset)\n",
    "    #print(ret_arr.shape)\n",
    "    ret_arr = ret_arr[54:56, :, 0, :]\n",
    "    ret_arr_new = np.zeros([2, 31])\n",
    "    for i in xrange(2):\n",
    "        for j in xrange(31):\n",
    "            ret_arr_new[i][j] = np.sqrt(ret_arr[i][j][0]**2 + ret_arr[i][j][1]**2 + ret_arr[i][j][2]**2)\n",
    "    #print(ret_arr.shape)\n",
    "    ret_arr_new = ret_arr_new.reshape(ret_arr_new.size)\n",
    "    #print(ret_arr.size)\n",
    "    return ret_arr_new\n",
    "\n",
    "def get_data_part(data_path):\n",
    "    file_list = os.listdir(data_path)\n",
    "    data_x = []\n",
    "    data_y = []\n",
    "    for file_name in file_list:\n",
    "        obj_name = file_name.split('_')[0]\n",
    "        if obj_name=='teddy':\n",
    "            data_y.append(0)\n",
    "        else:\n",
    "            data_y.append(1)\n",
    "        file_path = os.path.join(data_path, file_name)\n",
    "        fin_tmp = h5py.File(file_path)\n",
    "        data_force = get_asarray_part(fin_tmp['Data_force'])\n",
    "        #data_torque = get_asarray_part(fin_tmp['Data_torque'])\n",
    "        #data_x.append(np.concatenate([data_force, data_torque]))\n",
    "        data_x.append(data_force)\n",
    "        fin_tmp.close()\n",
    "        if len(data_x)>150:\n",
    "            #break\n",
    "            pass\n",
    "    \n",
    "    return data_x, data_y    "
   ]
  },
  {
   "cell_type": "code",
   "execution_count": 212,
   "metadata": {
    "collapsed": false,
    "deletable": true,
    "editable": true
   },
   "outputs": [],
   "source": [
    "data_x_part, data_y_part = get_data_part(data_path)"
   ]
  },
  {
   "cell_type": "code",
   "execution_count": 213,
   "metadata": {
    "collapsed": false,
    "deletable": true,
    "editable": true
   },
   "outputs": [
    {
     "data": {
      "text/plain": [
       "62"
      ]
     },
     "execution_count": 213,
     "metadata": {},
     "output_type": "execute_result"
    }
   ],
   "source": [
    "data_x_part[1].size"
   ]
  },
  {
   "cell_type": "code",
   "execution_count": 214,
   "metadata": {
    "collapsed": true,
    "deletable": true,
    "editable": true
   },
   "outputs": [],
   "source": [
    "\n",
    "clf = svm.LinearSVC(C=1, penalty='l1', dual=False)"
   ]
  },
  {
   "cell_type": "code",
   "execution_count": 215,
   "metadata": {
    "collapsed": false,
    "deletable": true,
    "editable": true
   },
   "outputs": [
    {
     "data": {
      "text/plain": [
       "LinearSVC(C=1, class_weight=None, dual=False, fit_intercept=True,\n",
       "     intercept_scaling=1, loss='squared_hinge', max_iter=1000,\n",
       "     multi_class='ovr', penalty='l1', random_state=None, tol=0.0001,\n",
       "     verbose=0)"
      ]
     },
     "execution_count": 215,
     "metadata": {},
     "output_type": "execute_result"
    }
   ],
   "source": [
    "clf.fit(data_x_part, data_y_part)"
   ]
  },
  {
   "cell_type": "code",
   "execution_count": 216,
   "metadata": {
    "collapsed": true,
    "deletable": true,
    "editable": true
   },
   "outputs": [],
   "source": [
    "pred_y_part = clf.predict(data_x_part)"
   ]
  },
  {
   "cell_type": "code",
   "execution_count": 217,
   "metadata": {
    "collapsed": false,
    "deletable": true,
    "editable": true
   },
   "outputs": [
    {
     "data": {
      "text/plain": [
       "0.79513888888888884"
      ]
     },
     "execution_count": 217,
     "metadata": {},
     "output_type": "execute_result"
    }
   ],
   "source": [
    "sum(pred_y_part==data_y_part)*1.0/len(pred_y_part)"
   ]
  },
  {
   "cell_type": "code",
   "execution_count": 200,
   "metadata": {
    "collapsed": false,
    "deletable": true,
    "editable": true
   },
   "outputs": [
    {
     "data": {
      "text/plain": [
       "0.7086092715231788"
      ]
     },
     "execution_count": 200,
     "metadata": {},
     "output_type": "execute_result"
    }
   ],
   "source": [
    "107.0/151"
   ]
  },
  {
   "cell_type": "code",
   "execution_count": 201,
   "metadata": {
    "collapsed": false,
    "deletable": true,
    "editable": true
   },
   "outputs": [
    {
     "data": {
      "text/plain": [
       "0.7048611111111112"
      ]
     },
     "execution_count": 201,
     "metadata": {},
     "output_type": "execute_result"
    }
   ],
   "source": [
    "203.0/288"
   ]
  },
  {
   "cell_type": "code",
   "execution_count": null,
   "metadata": {
    "collapsed": true,
    "deletable": true,
    "editable": true
   },
   "outputs": [],
   "source": []
  },
  {
   "cell_type": "code",
   "execution_count": null,
   "metadata": {
    "collapsed": true,
    "deletable": true,
    "editable": true
   },
   "outputs": [],
   "source": [
    "pred_y_part = clf.predict(data_x_part)"
   ]
  },
  {
   "cell_type": "code",
   "execution_count": 21,
   "metadata": {
    "collapsed": true,
    "deletable": true,
    "editable": true
   },
   "outputs": [],
   "source": [
    "data_x, data_y = get_data(data_path)"
   ]
  },
  {
   "cell_type": "code",
   "execution_count": 22,
   "metadata": {
    "collapsed": false,
    "deletable": true,
    "editable": true
   },
   "outputs": [
    {
     "data": {
      "text/plain": [
       "288"
      ]
     },
     "execution_count": 22,
     "metadata": {},
     "output_type": "execute_result"
    }
   ],
   "source": [
    "len(data_x)"
   ]
  },
  {
   "cell_type": "code",
   "execution_count": 23,
   "metadata": {
    "collapsed": false,
    "deletable": true,
    "editable": true
   },
   "outputs": [
    {
     "data": {
      "text/plain": [
       "61380"
      ]
     },
     "execution_count": 23,
     "metadata": {},
     "output_type": "execute_result"
    }
   ],
   "source": [
    "data_x[0].size"
   ]
  },
  {
   "cell_type": "code",
   "execution_count": 24,
   "metadata": {
    "collapsed": true,
    "deletable": true,
    "editable": true
   },
   "outputs": [],
   "source": [
    "clf = svm.SVC()"
   ]
  },
  {
   "cell_type": "code",
   "execution_count": 25,
   "metadata": {
    "collapsed": false,
    "deletable": true,
    "editable": true
   },
   "outputs": [
    {
     "data": {
      "text/plain": [
       "SVC(C=1.0, cache_size=200, class_weight=None, coef0=0.0,\n",
       "  decision_function_shape=None, degree=3, gamma='auto', kernel='rbf',\n",
       "  max_iter=-1, probability=False, random_state=None, shrinking=True,\n",
       "  tol=0.001, verbose=False)"
      ]
     },
     "execution_count": 25,
     "metadata": {},
     "output_type": "execute_result"
    }
   ],
   "source": [
    "clf.fit(data_x, data_y)"
   ]
  },
  {
   "cell_type": "code",
   "execution_count": 26,
   "metadata": {
    "collapsed": true,
    "deletable": true,
    "editable": true
   },
   "outputs": [],
   "source": [
    "pred_y = clf.predict(data_x)"
   ]
  },
  {
   "cell_type": "code",
   "execution_count": 27,
   "metadata": {
    "collapsed": false,
    "deletable": true,
    "editable": true
   },
   "outputs": [
    {
     "data": {
      "text/plain": [
       "288"
      ]
     },
     "execution_count": 27,
     "metadata": {},
     "output_type": "execute_result"
    }
   ],
   "source": [
    "sum(pred_y==data_y)"
   ]
  },
  {
   "cell_type": "code",
   "execution_count": 31,
   "metadata": {
    "collapsed": true,
    "deletable": true,
    "editable": true
   },
   "outputs": [],
   "source": [
    "data_path_val = '/home/chengxuz/barrel/barrel_github/dataset/hdf5s_val/'\n",
    "data_x_val, data_y_val = get_data(data_path_val)"
   ]
  },
  {
   "cell_type": "code",
   "execution_count": 32,
   "metadata": {
    "collapsed": true,
    "deletable": true,
    "editable": true
   },
   "outputs": [],
   "source": [
    "pred_y_val = clf.predict(data_x_val)"
   ]
  },
  {
   "cell_type": "code",
   "execution_count": 33,
   "metadata": {
    "collapsed": false,
    "deletable": true,
    "editable": true
   },
   "outputs": [
    {
     "data": {
      "text/plain": [
       "144"
      ]
     },
     "execution_count": 33,
     "metadata": {},
     "output_type": "execute_result"
    }
   ],
   "source": [
    "sum(pred_y_val==data_y_val)"
   ]
  },
  {
   "cell_type": "code",
   "execution_count": 37,
   "metadata": {
    "collapsed": false,
    "deletable": true,
    "editable": true
   },
   "outputs": [
    {
     "data": {
      "text/plain": [
       "array([1, 1, 1, 1, 1, 1, 1, 1, 1, 1, 1, 1, 1, 1, 1, 1, 1, 1, 1, 1, 1, 1, 1,\n",
       "       1, 1, 1, 1, 1, 1, 1, 1, 1, 1, 1, 1, 1, 1, 1, 1, 1, 1, 1, 1, 1, 1, 1,\n",
       "       1, 1, 1, 1, 1, 1, 1, 1, 1, 1, 1, 1, 1, 1, 1, 1, 1, 1, 1, 1, 1, 1, 1,\n",
       "       1, 1, 1, 1, 1, 1, 1, 1, 1, 1, 1, 1, 1, 1, 1, 1, 1, 1, 1, 1, 1, 1, 1,\n",
       "       1, 1, 1, 1, 1, 1, 1, 1, 1, 1, 1, 1, 1, 1, 1, 1, 1, 1, 1, 1, 1, 1, 1,\n",
       "       1, 1, 1, 1, 1, 1, 1, 1, 1, 1, 1, 1, 1, 1, 1, 1, 1, 1, 1, 1, 1, 1, 1,\n",
       "       1, 1, 1, 1, 1, 1, 1, 1, 1, 1, 1, 1, 1, 1, 1, 1, 1, 1, 1, 1, 1, 1, 1,\n",
       "       1, 1, 1, 1, 1, 1, 1, 1, 1, 1, 1, 1, 1, 1, 1, 1, 1, 1, 1, 1, 1, 1, 1,\n",
       "       1, 1, 1, 1, 1, 1, 1, 1, 1, 1, 1, 1, 1, 1, 1, 1, 1, 1, 1, 1, 1, 1, 1,\n",
       "       1, 1, 1, 1, 1, 1, 1, 1, 1, 1, 1, 1, 1, 1, 1, 1, 1, 1, 1, 1, 1, 1, 1,\n",
       "       1, 1, 1, 1, 1, 1, 1, 1, 1, 1, 1, 1, 1, 1, 1, 1, 1, 1, 1, 1, 1, 1, 1,\n",
       "       1, 1, 1, 1, 1, 1, 1, 1, 1, 1, 1, 1, 1, 1, 1, 1, 1, 1, 1, 1, 1, 1, 1,\n",
       "       1, 1, 1, 1, 1, 1, 1, 1, 1, 1, 1, 1])"
      ]
     },
     "execution_count": 37,
     "metadata": {},
     "output_type": "execute_result"
    }
   ],
   "source": [
    "pred_y_val"
   ]
  },
  {
   "cell_type": "code",
   "execution_count": 38,
   "metadata": {
    "collapsed": true,
    "deletable": true,
    "editable": true
   },
   "outputs": [],
   "source": [
    "new_clf = svm.SVC()"
   ]
  },
  {
   "cell_type": "code",
   "execution_count": 39,
   "metadata": {
    "collapsed": false,
    "deletable": true,
    "editable": true
   },
   "outputs": [
    {
     "data": {
      "text/plain": [
       "SVC(C=1.0, cache_size=200, class_weight=None, coef0=0.0,\n",
       "  decision_function_shape=None, degree=3, gamma='auto', kernel='rbf',\n",
       "  max_iter=-1, probability=False, random_state=None, shrinking=True,\n",
       "  tol=0.001, verbose=False)"
      ]
     },
     "execution_count": 39,
     "metadata": {},
     "output_type": "execute_result"
    }
   ],
   "source": [
    "new_clf.fit(data_x_val, data_y_val)"
   ]
  },
  {
   "cell_type": "code",
   "execution_count": 40,
   "metadata": {
    "collapsed": true,
    "deletable": true,
    "editable": true
   },
   "outputs": [],
   "source": [
    "new_pred_y_val = new_clf.predict(data_x_val)"
   ]
  },
  {
   "cell_type": "code",
   "execution_count": 41,
   "metadata": {
    "collapsed": false,
    "deletable": true,
    "editable": true
   },
   "outputs": [
    {
     "data": {
      "text/plain": [
       "288"
      ]
     },
     "execution_count": 41,
     "metadata": {},
     "output_type": "execute_result"
    }
   ],
   "source": [
    "sum(new_pred_y_val==data_y_val)"
   ]
  },
  {
   "cell_type": "code",
   "execution_count": 42,
   "metadata": {
    "collapsed": true,
    "deletable": true,
    "editable": true
   },
   "outputs": [],
   "source": [
    "new_pred_y = new_clf.predict(data_x)"
   ]
  },
  {
   "cell_type": "code",
   "execution_count": 43,
   "metadata": {
    "collapsed": false,
    "deletable": true,
    "editable": true
   },
   "outputs": [
    {
     "data": {
      "text/plain": [
       "array([1, 1, 1, 1, 1, 1, 1, 1, 1, 1, 1, 1, 1, 1, 1, 1, 1, 1, 1, 1, 1, 1, 1,\n",
       "       1, 1, 1, 1, 1, 1, 1, 1, 1, 1, 1, 1, 1, 1, 1, 1, 1, 1, 1, 1, 1, 1, 1,\n",
       "       1, 1, 1, 1, 1, 1, 1, 1, 1, 1, 1, 1, 1, 1, 1, 1, 1, 1, 1, 1, 1, 1, 1,\n",
       "       1, 1, 1, 1, 1, 1, 1, 1, 1, 1, 1, 1, 1, 1, 1, 1, 1, 1, 1, 1, 1, 1, 1,\n",
       "       1, 1, 1, 1, 1, 1, 1, 1, 1, 1, 1, 1, 1, 1, 1, 1, 1, 1, 1, 1, 1, 1, 1,\n",
       "       1, 1, 1, 1, 1, 1, 1, 1, 1, 1, 1, 1, 1, 1, 1, 1, 1, 1, 1, 1, 1, 1, 1,\n",
       "       1, 1, 1, 1, 1, 1, 1, 1, 1, 1, 1, 1, 1, 1, 1, 1, 1, 1, 1, 1, 1, 1, 1,\n",
       "       1, 1, 1, 1, 1, 1, 1, 1, 1, 1, 1, 1, 1, 1, 1, 1, 1, 1, 1, 1, 1, 1, 1,\n",
       "       1, 1, 1, 1, 1, 1, 1, 1, 1, 1, 1, 1, 1, 1, 1, 1, 1, 1, 1, 1, 1, 1, 1,\n",
       "       1, 1, 1, 1, 1, 1, 1, 1, 1, 1, 1, 1, 1, 1, 1, 1, 1, 1, 1, 1, 1, 1, 1,\n",
       "       1, 1, 1, 1, 1, 1, 1, 1, 1, 1, 1, 1, 1, 1, 1, 1, 1, 1, 1, 1, 1, 1, 1,\n",
       "       1, 1, 1, 1, 1, 1, 1, 1, 1, 1, 1, 1, 1, 1, 1, 1, 1, 1, 1, 1, 1, 1, 1,\n",
       "       1, 1, 1, 1, 1, 1, 1, 1, 1, 1, 1, 1])"
      ]
     },
     "execution_count": 43,
     "metadata": {},
     "output_type": "execute_result"
    }
   ],
   "source": [
    "new_pred_y"
   ]
  },
  {
   "cell_type": "code",
   "execution_count": null,
   "metadata": {
    "collapsed": true,
    "deletable": true,
    "editable": true
   },
   "outputs": [],
   "source": []
  },
  {
   "cell_type": "code",
   "execution_count": null,
   "metadata": {
    "collapsed": true,
    "deletable": true,
    "editable": true
   },
   "outputs": [],
   "source": []
  },
  {
   "cell_type": "code",
   "execution_count": null,
   "metadata": {
    "collapsed": true,
    "deletable": true,
    "editable": true
   },
   "outputs": [],
   "source": []
  },
  {
   "cell_type": "code",
   "execution_count": 218,
   "metadata": {
    "collapsed": true,
    "deletable": true,
    "editable": true
   },
   "outputs": [],
   "source": [
    "data_x_val_part, data_y_val_part = get_data_part(data_path_val)"
   ]
  },
  {
   "cell_type": "code",
   "execution_count": 219,
   "metadata": {
    "collapsed": true,
    "deletable": true,
    "editable": true
   },
   "outputs": [],
   "source": [
    "pred_y_val_part = clf.predict(data_x_val_part)"
   ]
  },
  {
   "cell_type": "code",
   "execution_count": 220,
   "metadata": {
    "collapsed": false,
    "deletable": true,
    "editable": true
   },
   "outputs": [
    {
     "data": {
      "text/plain": [
       "0.69791666666666663"
      ]
     },
     "execution_count": 220,
     "metadata": {},
     "output_type": "execute_result"
    }
   ],
   "source": [
    "sum(pred_y_val_part==data_y_val_part)*1.0/len(pred_y_val_part)"
   ]
  },
  {
   "cell_type": "code",
   "execution_count": 221,
   "metadata": {
    "collapsed": false,
    "deletable": true,
    "editable": true
   },
   "outputs": [
    {
     "data": {
      "text/plain": [
       "201.0"
      ]
     },
     "execution_count": 221,
     "metadata": {},
     "output_type": "execute_result"
    }
   ],
   "source": [
    "sum(pred_y_val_part==data_y_val_part)*1.0"
   ]
  },
  {
   "cell_type": "code",
   "execution_count": 206,
   "metadata": {
    "collapsed": false,
    "deletable": true,
    "editable": true
   },
   "outputs": [
    {
     "data": {
      "text/plain": [
       "0.5165562913907285"
      ]
     },
     "execution_count": 206,
     "metadata": {},
     "output_type": "execute_result"
    }
   ],
   "source": [
    "78.0/151"
   ]
  },
  {
   "cell_type": "code",
   "execution_count": 207,
   "metadata": {
    "collapsed": false,
    "deletable": true,
    "editable": true
   },
   "outputs": [
    {
     "data": {
      "text/plain": [
       "0.6041666666666666"
      ]
     },
     "execution_count": 207,
     "metadata": {},
     "output_type": "execute_result"
    }
   ],
   "source": [
    "174.0/288"
   ]
  },
  {
   "cell_type": "code",
   "execution_count": 111,
   "metadata": {
    "collapsed": false,
    "deletable": true,
    "editable": true
   },
   "outputs": [
    {
     "data": {
      "text/plain": [
       "array([  4.00475000e+01,   3.34628190e+02,   6.73758592e+01,\n",
       "         3.85430594e+01,   2.13790803e+00,   7.55107337e+01,\n",
       "         1.31004947e+03,   1.49493213e+03,   3.68221863e+02,\n",
       "         4.64526574e+01,   1.56006565e+01,   2.18247862e+03,\n",
       "         3.46885127e+03,   7.90016651e+03,   1.78264151e+03,\n",
       "         3.24659061e+02,   1.64132058e+01,   1.46536139e-04,\n",
       "         6.99867968e+03,   3.83203675e+03,   1.36408488e+03,\n",
       "         5.81435689e+03,   6.15321847e+03,   1.99163091e+03,\n",
       "         2.66671261e+01,   3.21827061e+03,   2.08224568e+03,\n",
       "         2.42728900e+03,   2.24045354e+04,   5.00115444e+02,\n",
       "         2.68320555e+03,   4.03558417e+01,   4.88451771e+02,\n",
       "         6.19391989e+01,   3.85921725e+01,   2.16430893e+00,\n",
       "         7.54481870e+01,   1.32567327e+03,   2.23468542e+03,\n",
       "         6.78626212e+02,   3.41724162e+01,   1.56882734e+01,\n",
       "         2.87941826e+03,   3.61028202e+03,   8.24282131e+03,\n",
       "         9.01527932e+02,   3.07905497e+02,   5.98239202e+01,\n",
       "         4.49598474e-04,   5.19499455e+03,   3.17598435e+03,\n",
       "         1.22417880e+03,   7.65568486e+03,   6.33446557e+03,\n",
       "         1.12017413e+03,   9.66268980e+00,   2.18756885e+03,\n",
       "         2.22901567e+03,   1.89983574e+03,   2.06034901e+04,\n",
       "         7.07016820e+02,   6.56024396e+03,   4.04102836e+01,\n",
       "         3.67383268e+02,   6.09720518e+01,   3.88482816e+01,\n",
       "         2.16671184e+00,   7.55511866e+01,   1.36861627e+03,\n",
       "         2.93186820e+03,   4.24935265e+02,   2.80235528e+01,\n",
       "         1.56468364e+01,   3.37823401e+03,   3.79780243e+03,\n",
       "         8.45019086e+03,   1.25580087e+03,   2.31788572e+02,\n",
       "         6.19282498e+01,   1.07422853e-03,   3.74399795e+03,\n",
       "         2.43036443e+03,   7.09769169e+02,   8.85414408e+03,\n",
       "         8.10698920e+03,   1.98132722e+02,   1.54096768e+01,\n",
       "         1.25285648e+03,   2.84652673e+03,   1.92661318e+03,\n",
       "         1.99242039e+04,   9.34181445e+02,   2.27438884e+03])"
      ]
     },
     "execution_count": 111,
     "metadata": {},
     "output_type": "execute_result"
    }
   ],
   "source": [
    "data_x_val_part[1]"
   ]
  },
  {
   "cell_type": "code",
   "execution_count": null,
   "metadata": {
    "collapsed": true,
    "deletable": true,
    "editable": true
   },
   "outputs": [],
   "source": []
  },
  {
   "cell_type": "markdown",
   "metadata": {
    "collapsed": true,
    "deletable": true,
    "editable": true
   },
   "source": [
    "# With more data and more variations"
   ]
  },
  {
   "cell_type": "code",
   "execution_count": 222,
   "metadata": {
    "collapsed": true,
    "deletable": true,
    "editable": true
   },
   "outputs": [],
   "source": [
    "data_path_new_name = '/mnt/data/chengxuz/barrel/hdf5s_new_name'\n",
    "data_path_new_name_fix = '/mnt/data/chengxuz/barrel/hdf5s_new_name_fix'\n",
    "pos_fix_list = [1, 12, 13, 14, 15, 16, 17, 18, 19]"
   ]
  },
  {
   "cell_type": "code",
   "execution_count": 238,
   "metadata": {
    "collapsed": true,
    "deletable": true,
    "editable": true
   },
   "outputs": [],
   "source": [
    "pos_var_lists = [[0,4,5,6,7,8,9,10,11], [2,20,21,22,23,24,25,26,27], [3,28,29,30,31,32,33,34,35], [1,12,13,14,15,16,17,18,19]]\n",
    "speed_var_lists = [[7,9,11,13],[0,2,4,6],[8,10,12],[1,3,5]]\n",
    "orn_var_lists = [[0,1,2,3,4],[5,6,7,8,9],[10,11,12,13,14]]\n",
    "scale_var_lists = [[0,2,4],[1,3,5]]"
   ]
  },
  {
   "cell_type": "code",
   "execution_count": 263,
   "metadata": {
    "collapsed": true,
    "deletable": true,
    "editable": true
   },
   "outputs": [],
   "source": [
    "def get_file_name(pos_indx, speed_indx, orn_indx, scale_indx):\n",
    "    # Get the file name of hdf5 using all indexes. As I make a mistake about positions, some special fixes are used\n",
    "    if pos_indx in pos_fix_list:\n",
    "        curr_data_path = data_path_new_name_fix\n",
    "    else:\n",
    "        curr_data_path = data_path_new_name\n",
    "    \n",
    "    suffix_now = \"_%i_%i_%i_%i.hdf5\" % (pos_indx, scale_indx, speed_indx, orn_indx)\n",
    "    prefix_list = ['duck', 'teddy']\n",
    "    file_list = [x + suffix_now for x in prefix_list]\n",
    "    file_list = [os.path.join(curr_data_path, x) for x in file_list]\n",
    "    file_list = filter(os.path.exists, file_list)\n",
    "    return file_list"
   ]
  },
  {
   "cell_type": "code",
   "execution_count": 264,
   "metadata": {
    "collapsed": true,
    "deletable": true,
    "editable": true
   },
   "outputs": [],
   "source": [
    "def get_file_name_from_list(pos_indx_list, speed_indx_list, orn_indx_list, scale_indx_list):\n",
    "    ret_val = []\n",
    "    for pos_indx in pos_indx_list:\n",
    "        for speed_indx in speed_indx_list:\n",
    "            for orn_indx in orn_indx_list:\n",
    "                for scale_indx in scale_indx_list:\n",
    "                    ret_val.extend(get_file_name(pos_indx, speed_indx, orn_indx, scale_indx))\n",
    "    \n",
    "    return ret_val"
   ]
  },
  {
   "cell_type": "code",
   "execution_count": 323,
   "metadata": {
    "collapsed": true,
    "deletable": true,
    "editable": true
   },
   "outputs": [],
   "source": [
    "def get_list_from_flag(var_lists, some_flag):\n",
    "    ret_list = []\n",
    "    for the_indx, the_flag in enumerate(some_flag):\n",
    "        if the_flag:\n",
    "            ret_list.extend(var_lists[the_indx])\n",
    "    return ret_list\n",
    "\n",
    "def get_file_name_from_flag(pos_flag, speed_flag, orn_flag, scale_flag):\n",
    "    pos_indx_list = get_list_from_flag(pos_var_lists, pos_flag)\n",
    "    #print(pos_indx_list)\n",
    "    speed_indx_list = get_list_from_flag(speed_var_lists, speed_flag)\n",
    "    #print(speed_indx_list)\n",
    "    orn_indx_list = get_list_from_flag(orn_var_lists, orn_flag)\n",
    "    #print(orn_indx_list)\n",
    "    scale_indx_list = get_list_from_flag(scale_var_lists, scale_flag)\n",
    "    #print(scale_indx_list)\n",
    "    \n",
    "    return get_file_name_from_list(pos_indx_list, speed_indx_list, orn_indx_list, scale_indx_list)\n",
    "    "
   ]
  },
  {
   "cell_type": "code",
   "execution_count": 266,
   "metadata": {
    "collapsed": true,
    "deletable": true,
    "editable": true
   },
   "outputs": [],
   "source": [
    "def rename_files(data_path_now):\n",
    "    file_list = os.listdir(data_path_now)\n",
    "    now_status = 0\n",
    "    for file_name in file_list:\n",
    "        if now_status%500==0:\n",
    "            print(now_status)\n",
    "        split_list = file_name.split('_', 2)\n",
    "        new_file_name = \"%s_%s\" % (split_list[0], split_list[2])\n",
    "        file_name = os.path.join(data_path_now, file_name)\n",
    "        new_file_name = os.path.join(data_path_now, new_file_name)\n",
    "        cmd_run = \"mv %s %s\" % (file_name, new_file_name)\n",
    "        #os.system(cmd_run)\n",
    "        now_status = now_status + 1"
   ]
  },
  {
   "cell_type": "code",
   "execution_count": 267,
   "metadata": {
    "collapsed": false,
    "deletable": true,
    "editable": true
   },
   "outputs": [],
   "source": [
    "#rename_files(data_path_new_name)\n",
    "#rename_files(data_path_new_name_fix)"
   ]
  },
  {
   "cell_type": "code",
   "execution_count": 268,
   "metadata": {
    "collapsed": false,
    "deletable": true,
    "editable": true
   },
   "outputs": [
    {
     "name": "stdout",
     "output_type": "stream",
     "text": [
      "['/mnt/data/chengxuz/barrel/hdf5s_new_name/duck_0_0_0_0.hdf5', '/mnt/data/chengxuz/barrel/hdf5s_new_name/teddy_0_0_0_0.hdf5']\n"
     ]
    }
   ],
   "source": [
    "print(get_file_name(0,0,0,0))"
   ]
  },
  {
   "cell_type": "code",
   "execution_count": 320,
   "metadata": {
    "collapsed": false,
    "deletable": true,
    "editable": true
   },
   "outputs": [
    {
     "name": "stdout",
     "output_type": "stream",
     "text": [
      "[0, 4, 5, 6, 7, 8, 9, 10, 11]\n",
      "[7, 9, 11, 13]\n",
      "[0, 1, 2, 3, 4, 5, 6, 7, 8, 9, 10, 11, 12, 13, 14]\n",
      "[0, 2, 4, 1, 3, 5]\n",
      "6480\n",
      "/mnt/data/chengxuz/barrel/hdf5s_new_name/duck_0_0_7_0.hdf5\n"
     ]
    }
   ],
   "source": [
    "test_file_list = get_file_name_from_flag([True, False, False, False], [True, False, False, False], [True, True, True], [True, True])\n",
    "#test_file_list = get_file_name_from_flag([False, False, False, True], [False, False, False, True], [False, False, True], [False, True])\n",
    "print(len(test_file_list))\n",
    "print(test_file_list[0])"
   ]
  },
  {
   "cell_type": "code",
   "execution_count": 272,
   "metadata": {
    "collapsed": true,
    "deletable": true,
    "editable": true
   },
   "outputs": [],
   "source": [
    "all_data_dict = {}"
   ]
  },
  {
   "cell_type": "code",
   "execution_count": 273,
   "metadata": {
    "collapsed": true,
    "deletable": true,
    "editable": true
   },
   "outputs": [],
   "source": [
    "num_whis = 31"
   ]
  },
  {
   "cell_type": "code",
   "execution_count": 284,
   "metadata": {
    "collapsed": true,
    "deletable": true,
    "editable": true
   },
   "outputs": [],
   "source": [
    "def cache_or_fetch(file_name, key_value, big_dict):\n",
    "    if file_name in big_dict:\n",
    "        if key_value in big_dict[file_name]:\n",
    "            return big_dict[file_name][key_value]\n",
    "    tmp_fin = h5py.File(file_name, 'r')\n",
    "    tmp_array = np.asarray(tmp_fin[key_value])\n",
    "    if file_name not in big_dict:\n",
    "        big_dict[file_name] = {}\n",
    "    big_dict[file_name][key_value] = tmp_array\n",
    "    return tmp_array\n",
    "\n",
    "def get_array_from_indx(big_array, indx_for_time, indx_for_unit, mag_flag):\n",
    "    indx_time_sta, indx_time_end = indx_for_time\n",
    "    indx_unit_sta, indx_unit_end = indx_for_unit\n",
    "    shape_new = [indx_time_end - indx_time_sta, num_whis, indx_unit_end - indx_unit_sta]\n",
    "    if not mag_flag:\n",
    "        shape_new.append(3)\n",
    "    ret_array = np.zeros(shape_new)\n",
    "    if mag_flag:\n",
    "        for indx_time in xrange(indx_time_sta, indx_time_end):\n",
    "            for indx_whis in xrange(num_whis):\n",
    "                for indx_unit in xrange(indx_unit_sta, indx_unit_end):\n",
    "                    ret_array[indx_time - indx_time_sta, indx_whis, indx_unit - indx_unit_sta] = np.sqrt(big_array[indx_time, indx_whis, indx_unit, 0]**2 + \n",
    "                                                                         big_array[indx_time, indx_whis, indx_unit, 1]**2 + \n",
    "                                                                         big_array[indx_time, indx_whis, indx_unit, 2]**2)\n",
    "    else:\n",
    "        ret_array = big_array[indx_time_sta:indx_time_end, :, indx_unit_sta:indx_unit_end, :]\n",
    "    \n",
    "    ret_array = ret_array.reshape(ret_array.size)\n",
    "    return ret_array\n",
    "\n",
    "def get_array_from_file(file_name, indx_for_time, indx_for_unit, mag_flag):\n",
    "    return 1 if 'duck' in file_name else 0 ,np.concatenate([get_array_from_indx(cache_or_fetch(file_name, 'Data_force', all_data_dict), indx_for_time, indx_for_unit, mag_flag),\n",
    "                          get_array_from_indx(cache_or_fetch(file_name, 'Data_torque', all_data_dict), indx_for_time, indx_for_unit, mag_flag)])\n",
    "    "
   ]
  },
  {
   "cell_type": "code",
   "execution_count": 287,
   "metadata": {
    "collapsed": false,
    "deletable": true,
    "editable": true
   },
   "outputs": [
    {
     "name": "stdout",
     "output_type": "stream",
     "text": [
      "0\n",
      "(5580,)\n",
      "/mnt/data/chengxuz/barrel/hdf5s_new_name/teddy_11_4_13_4.hdf5\n"
     ]
    }
   ],
   "source": [
    "test_label, test_array = get_array_from_file(test_file_list[-1], [50,60], [0,3], False)"
   ]
  },
  {
   "cell_type": "code",
   "execution_count": 289,
   "metadata": {
    "collapsed": true,
    "deletable": true,
    "editable": true
   },
   "outputs": [],
   "source": [
    "def get_data_from_file_list(file_list, array_settings, sample_settings):\n",
    "    data_x = []\n",
    "    data_y = []\n",
    "    if ('sample' in sample_settings) and (sample_settings['sample']):\n",
    "        if 'seed' in sample_settings:\n",
    "            np.random.seed(sample_settings['seed'])\n",
    "        file_list = np.random.choice(file_list, sample_settings['sample_num'])\n",
    "    for file_name in file_list:\n",
    "        curr_label, curr_array = get_array_from_file(file_name, **array_settings)\n",
    "        data_x.append(curr_array)\n",
    "        data_y.append(curr_label)\n",
    "    return data_x, data_y"
   ]
  },
  {
   "cell_type": "code",
   "execution_count": 232,
   "metadata": {
    "collapsed": true,
    "deletable": true,
    "editable": true
   },
   "outputs": [],
   "source": [
    "def get_speed_list(mode=0):\n",
    "    #return [[0,-12,0], [0, -10, 0], [0, -8, 0]]\n",
    "    if mode==0:\n",
    "        return [[0,-12,0], [0, -10, 0], [0, -8, 0]] \n",
    "    elif mode==1:\n",
    "        return [[0,-12.5,0], [0, -10.5, 0], [0, -8.5, 0]] \n",
    "    elif mode==2:\n",
    "        start_speed = -14 \n",
    "        end_speed = -7\n",
    "\n",
    "        ret_list = []\n",
    "\n",
    "        for now_speed in np.arange(start_speed, end_speed):\n",
    "            now_speed_list = [0, now_speed, 0]\n",
    "            ret_list.append(now_speed_list)\n",
    "\n",
    "        start_speed = -14.5\n",
    "        end_speed = -7.5\n",
    "\n",
    "        for now_speed in np.arange(start_speed, end_speed):\n",
    "            now_speed_list = [0, now_speed, 0]\n",
    "            ret_list.append(now_speed_list)\n",
    "\n",
    "        return ret_list\n",
    "    else:\n",
    "        return [[0,-12,0], [0, -10, 0], [0, -8, 0]] "
   ]
  },
  {
   "cell_type": "code",
   "execution_count": 233,
   "metadata": {
    "collapsed": false,
    "deletable": true,
    "editable": true
   },
   "outputs": [
    {
     "data": {
      "text/plain": [
       "[[0, -14, 0],\n",
       " [0, -13, 0],\n",
       " [0, -12, 0],\n",
       " [0, -11, 0],\n",
       " [0, -10, 0],\n",
       " [0, -9, 0],\n",
       " [0, -8, 0],\n",
       " [0, -14.5, 0],\n",
       " [0, -13.5, 0],\n",
       " [0, -12.5, 0],\n",
       " [0, -11.5, 0],\n",
       " [0, -10.5, 0],\n",
       " [0, -9.5, 0],\n",
       " [0, -8.5, 0]]"
      ]
     },
     "execution_count": 233,
     "metadata": {},
     "output_type": "execute_result"
    }
   ],
   "source": [
    "get_speed_list(2)"
   ]
  },
  {
   "cell_type": "code",
   "execution_count": 270,
   "metadata": {
    "collapsed": true,
    "deletable": true,
    "editable": true
   },
   "outputs": [],
   "source": [
    "clf = svm.LinearSVC(C=1, penalty='l1', dual=False)"
   ]
  },
  {
   "cell_type": "code",
   "execution_count": 333,
   "metadata": {
    "collapsed": true,
    "deletable": true,
    "editable": true
   },
   "outputs": [],
   "source": [
    "def svm_train_test(train_flags, test_flags, array_settings, sample_settings, verbose = True):\n",
    "    train_file_list = get_file_name_from_flag(*train_flags)\n",
    "    train_x, train_y = get_data_from_file_list(train_file_list, array_settings, sample_settings)\n",
    "    if verbose:\n",
    "        print('Train data loading finished!')\n",
    "    clf = svm.LinearSVC(C=1, penalty='l1', dual=False)\n",
    "    clf.fit(train_x, train_y)\n",
    "    if verbose:\n",
    "        print('SVM fitting finished!')\n",
    "    pred_train_y = clf.predict(train_x)\n",
    "    perform_train = sum(pred_train_y==train_y)*1.0/len(train_y)\n",
    "    \n",
    "    test_file_list = get_file_name_from_flag(*test_flags)\n",
    "    test_x, test_y = get_data_from_file_list(test_file_list, array_settings, {})\n",
    "    if verbose:\n",
    "        print('Test data loading finished!')\n",
    "    pred_test_y = clf.predict(test_x)\n",
    "    perform_test = sum(pred_test_y==test_y)*1.0/len(test_y)\n",
    "    \n",
    "    return perform_train, perform_test"
   ]
  },
  {
   "cell_type": "code",
   "execution_count": 321,
   "metadata": {
    "collapsed": false,
    "deletable": true,
    "editable": true
   },
   "outputs": [
    {
     "name": "stdout",
     "output_type": "stream",
     "text": [
      "[0, 4, 5, 6, 7, 8, 9, 10, 11]\n",
      "[7, 9, 11, 13]\n",
      "[0, 1, 2, 3, 4, 5, 6, 7, 8, 9, 10, 11, 12, 13, 14]\n",
      "[0, 2, 4, 1, 3, 5]\n",
      "Train data loading finished!\n",
      "SVM fitting finished!\n",
      "[2, 20, 21, 22, 23, 24, 25, 26, 27]\n",
      "[0, 2, 4, 6]\n",
      "[0, 1, 2, 3, 4, 5, 6, 7, 8, 9, 10, 11, 12, 13, 14]\n",
      "[0, 2, 4, 1, 3, 5]\n",
      "Test data loading finished!\n"
     ]
    }
   ],
   "source": [
    "#train_flags = ([True, False, False, False], [True, False, False, False], [True, False, False], [True, False])\n",
    "train_flags = ([True, False, False, False], [True, False, False, False], [True, True, True], [True, True])\n",
    "#test_flags = ([False, True, False, False], [False, True, False, False], [False, True, False], [False, True])\n",
    "test_flags = ([False, True, False, False], [False, True, False, False], [True, True, True], [True, True])\n",
    "array_settings = {'indx_for_time': [50, 60], 'indx_for_unit': [0, 3], 'mag_flag': False}\n",
    "sample_settings = {}\n",
    "p1,p2 = svm_train_test(train_flags, test_flags, array_settings, sample_settings)"
   ]
  },
  {
   "cell_type": "code",
   "execution_count": 322,
   "metadata": {
    "collapsed": false,
    "deletable": true,
    "editable": true
   },
   "outputs": [
    {
     "name": "stdout",
     "output_type": "stream",
     "text": [
      "(1.0, 0.93287037037037035)\n"
     ]
    }
   ],
   "source": [
    "print(p1, p2)"
   ]
  },
  {
   "cell_type": "markdown",
   "metadata": {
    "deletable": true,
    "editable": true
   },
   "source": [
    "## Figures for performances"
   ]
  },
  {
   "cell_type": "code",
   "execution_count": 298,
   "metadata": {
    "collapsed": true,
    "deletable": true,
    "editable": true
   },
   "outputs": [],
   "source": [
    "%matplotlib inline\n",
    "import matplotlib.pyplot as plt\n",
    "import pylab"
   ]
  },
  {
   "cell_type": "code",
   "execution_count": 341,
   "metadata": {
    "collapsed": true,
    "deletable": true,
    "editable": true
   },
   "outputs": [],
   "source": [
    "def plot_list_results(x_list, y_list, x_label, y_label, title_now, with_error = False, error_list = None, extend = False):\n",
    "\n",
    "    plt.figure()\n",
    "    if not with_error:\n",
    "        plt.plot(x_list, y_list)\n",
    "    else:\n",
    "        plt.errorbar(x_list, y_list, yerr=error_list)\n",
    "    plt.gcf().set_size_inches(7.5, 4.5)\n",
    "    label_fontsize = 15\n",
    "    title_fontsize = 18\n",
    "    ticks_fontsize = 12\n",
    "    plt.xlabel(x_label, fontsize=label_fontsize)\n",
    "    plt.ylabel(y_label, fontsize=label_fontsize)\n",
    "    plt.title(title_now, fontsize=title_fontsize)\n",
    "    pylab.xticks(fontsize=ticks_fontsize)\n",
    "    pylab.yticks(fontsize=ticks_fontsize)\n",
    "    if extend:\n",
    "        plt.xlim([np.min(x_list) - 50, np.max(x_list) + 50])"
   ]
  },
  {
   "cell_type": "code",
   "execution_count": 339,
   "metadata": {
    "collapsed": false,
    "deletable": true,
    "editable": true
   },
   "outputs": [
    {
     "name": "stdout",
     "output_type": "stream",
     "text": [
      "100 0 1 2 3 4 5 6 7 8 9\n",
      "500 0 1 2 3 4 5 6 7 8 9\n",
      "1000 0 1 2 3 4 5 6 7 8 9\n",
      "2000 0 1 2 3 4 5 6 7 8 9\n",
      "3000 0 1 2 3 4 5 6 7 8 9\n",
      "5000 0 1 2 3 4 5 6 7 8 9\n",
      "6480 0 1 2 3 4 5 6 7 8 9\n"
     ]
    },
    {
     "data": {
      "image/png": "[encoded data removed]",
      "text/plain": [
       "<matplotlib.figure.Figure at 0x7f3132121390>"
      ]
     },
     "metadata": {},
     "output_type": "display_data"
    },
    {
     "data": {
      "image/png": "[encoded data removed]",
      "text/plain": [
       "<matplotlib.figure.Figure at 0x7f3131e74650>"
      ]
     },
     "metadata": {},
     "output_type": "display_data"
    }
   ],
   "source": [
    "#train_flags = ([True, False, False, False], [True, False, False, False], [True, False, False], [True, False])\n",
    "train_flags = ([True, False, False, False], [True, False, False, False], [True, True, True], [True, True])\n",
    "#test_flags = ([False, True, False, False], [False, True, False, False], [False, True, False], [False, True])\n",
    "test_flags = ([False, True, False, False], [False, True, False, False], [True, True, True], [True, True])\n",
    "array_settings = {'indx_for_time': [50, 60], 'indx_for_unit': [0, 3], 'mag_flag': False}\n",
    "sample_settings = {'sample': True, 'seed':0, 'sample_num': 1000}\n",
    "\n",
    "sample_num_list = [100, 500, 1000, 2000, 3000, 5000, 6480]\n",
    "#sample_num_list = [100, 500, 1000, ]\n",
    "\n",
    "train_p_list = []\n",
    "test_p_list = []\n",
    "err_p_list = []\n",
    "\n",
    "num_rand = 10\n",
    "\n",
    "for sample_num in sample_num_list:\n",
    "    sample_settings['sample_num'] = sample_num\n",
    "    tmp_test_list = []\n",
    "    print sample_num,\n",
    "    for indx_rand in xrange(num_rand):\n",
    "        print indx_rand,\n",
    "        sample_settings['seed'] = indx_rand\n",
    "        train_p,test_p = svm_train_test(train_flags, test_flags, array_settings, sample_settings, verbose=False)\n",
    "        tmp_test_list.append(test_p)\n",
    "        \n",
    "    print\n",
    "    train_p_list.append(train_p)\n",
    "    test_p_list.append(np.mean(tmp_test_list))\n",
    "    err_p_list.append(np.std(tmp_test_list))\n",
    "\n",
    "plot_list_results(sample_num_list, train_p_list, 'Training num', 'Training perf', 'Training perf vs. training num')\n",
    "plot_list_results(sample_num_list, test_p_list, 'Training num', 'Testing perf', 'Testing perf vs. training num', True, err_p_list, extend= True)"
   ]
  },
  {
   "cell_type": "code",
   "execution_count": 342,
   "metadata": {
    "collapsed": false,
    "deletable": true,
    "editable": true
   },
   "outputs": [
    {
     "name": "stdout",
     "output_type": "stream",
     "text": [
      "Train data loading finished!\n",
      "SVM fitting finished!\n",
      "Test data loading finished!\n",
      "Train data loading finished!\n",
      "SVM fitting finished!\n",
      "Test data loading finished!\n",
      "Train data loading finished!\n",
      "SVM fitting finished!\n",
      "Test data loading finished!\n",
      "Train data loading finished!\n",
      "SVM fitting finished!\n",
      "Test data loading finished!\n",
      "Train data loading finished!\n",
      "SVM fitting finished!\n",
      "Test data loading finished!\n",
      "Train data loading finished!\n",
      "SVM fitting finished!\n",
      "Test data loading finished!\n",
      "Train data loading finished!\n",
      "SVM fitting finished!\n",
      "Test data loading finished!\n",
      "Train data loading finished!\n",
      "SVM fitting finished!\n",
      "Test data loading finished!\n",
      "Train data loading finished!\n",
      "SVM fitting finished!\n",
      "Test data loading finished!\n"
     ]
    },
    {
     "data": {
      "image/png": "[encoded data removed]",
      "text/plain": [
       "<matplotlib.figure.Figure at 0x7f312f7a85d0>"
      ]
     },
     "metadata": {},
     "output_type": "display_data"
    },
    {
     "data": {
      "image/png": "[encoded data removed]",
      "text/plain": [
       "<matplotlib.figure.Figure at 0x7f312f7a8110>"
      ]
     },
     "metadata": {},
     "output_type": "display_data"
    }
   ],
   "source": [
    "#train_flags = ([True, False, False, False], [True, False, False, False], [True, False, False], [True, False])\n",
    "train_flags = ([True, False, False, False], [True, False, False, False], [True, True, True], [True, True])\n",
    "#test_flags = ([False, True, False, False], [False, True, False, False], [False, True, False], [False, True])\n",
    "test_flags = ([False, True, False, False], [False, True, False, False], [True, True, True], [True, True])\n",
    "array_settings = {'indx_for_time': [50, 60], 'indx_for_unit': [0, 3], 'mag_flag': False}\n",
    "#sample_settings = {'sample': True, 'seed':0, 'sample_num': 5000}\n",
    "sample_settings = {}\n",
    "\n",
    "indx_time_len_list = [0, 1, 3, 5, 7, 10, 15, 20, 30]\n",
    "#indx_time_len_list = [0, 1, 3, 5]\n",
    "x_list_for_fig = []\n",
    "\n",
    "train_p_list = []\n",
    "test_p_list = []\n",
    "\n",
    "for indx_time_len in indx_time_len_list:\n",
    "    array_settings['indx_for_time'] = [55 - indx_time_len, 55 + indx_time_len + 1]\n",
    "    train_p,test_p = svm_train_test(train_flags, test_flags, array_settings, sample_settings)\n",
    "    \n",
    "    train_p_list.append(train_p)\n",
    "    test_p_list.append(test_p)\n",
    "    \n",
    "    x_list_for_fig.append(31*3*6*(2*indx_time_len + 1))\n",
    "\n",
    "plot_list_results(x_list_for_fig, train_p_list, 'Feature num', 'Training perf', 'Training perf vs. Feature num')\n",
    "plot_list_results(x_list_for_fig, test_p_list, 'Feature num', 'Testing perf', 'Testing perf vs. Feature num')"
   ]
  },
  {
   "cell_type": "code",
   "execution_count": 326,
   "metadata": {
    "collapsed": false,
    "deletable": true,
    "editable": true
   },
   "outputs": [
    {
     "name": "stdout",
     "output_type": "stream",
     "text": [
      "Train data loading finished!\n",
      "SVM fitting finished!\n",
      "Test data loading finished!\n",
      "Train data loading finished!\n",
      "SVM fitting finished!\n",
      "Test data loading finished!\n",
      "Train data loading finished!\n",
      "SVM fitting finished!\n",
      "Test data loading finished!\n"
     ]
    },
    {
     "data": {
      "image/png": "[encoded data removed]",
      "text/plain": [
       "<matplotlib.figure.Figure at 0x7f312f6a8d50>"
      ]
     },
     "metadata": {},
     "output_type": "display_data"
    },
    {
     "data": {
      "image/png": "[encoded data removed]",
      "text/plain": [
       "<matplotlib.figure.Figure at 0x7f31418ee710>"
      ]
     },
     "metadata": {},
     "output_type": "display_data"
    }
   ],
   "source": [
    "#train_flags = ([True, False, False, False], [True, False, False, False], [True, False, False], [True, False])\n",
    "train_flags = ([True, False, False, False], [True, False, False, False], [True, True, True], [True, True])\n",
    "#test_flags = ([False, True, False, False], [False, True, False, False], [False, True, False], [False, True])\n",
    "test_flags = ([False, True, False, False], [False, True, False, False], [True, True, True], [True, True])\n",
    "array_settings = {'indx_for_time': [50, 60], 'indx_for_unit': [0, 3], 'mag_flag': False}\n",
    "#sample_settings = {'sample': True, 'seed':0, 'sample_num': 5000}\n",
    "sample_settings = {}\n",
    "\n",
    "x_list = [1,2,3]\n",
    "\n",
    "train_p_list = []\n",
    "test_p_list = []\n",
    "\n",
    "train_p,test_p = svm_train_test(train_flags, test_flags, array_settings, sample_settings)\n",
    "train_p_list.append(train_p)\n",
    "test_p_list.append(test_p)\n",
    "\n",
    "test_flags = ([False, False, True, False], [False, False, True, False], [True, True, True], [True, True])\n",
    "train_p,test_p = svm_train_test(train_flags, test_flags, array_settings, sample_settings)\n",
    "train_p_list.append(train_p)\n",
    "test_p_list.append(test_p)\n",
    "\n",
    "test_flags = ([False, False, False, True], [False, False, False, True], [True, True, True], [True, True])\n",
    "train_p,test_p = svm_train_test(train_flags, test_flags, array_settings, sample_settings)\n",
    "train_p_list.append(train_p)\n",
    "test_p_list.append(test_p)\n",
    "\n",
    "plot_list_results(x_list, train_p_list, 'Variation between train/test', 'Training perf', 'Training perf vs. Variation')\n",
    "plot_list_results(x_list, test_p_list, 'Variation between train/test', 'Testing perf', 'Testing perf vs. Variation')"
   ]
  },
  {
   "cell_type": "code",
   "execution_count": null,
   "metadata": {
    "collapsed": true,
    "deletable": true,
    "editable": true
   },
   "outputs": [],
   "source": []
  }
 ],
 "metadata": {
  "kernelspec": {
   "display_name": "Python 2",
   "language": "python",
   "name": "python2"
  },
  "language_info": {
   "codemirror_mode": {
    "name": "ipython",
    "version": 2
   },
   "file_extension": ".py",
   "mimetype": "text/x-python",
   "name": "python",
   "nbconvert_exporter": "python",
   "pygments_lexer": "ipython2",
   "version": "2.7.12"
  }
 },
 "nbformat": 4,
 "nbformat_minor": 2
}
